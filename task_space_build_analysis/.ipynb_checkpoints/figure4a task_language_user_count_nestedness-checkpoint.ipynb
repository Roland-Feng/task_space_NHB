{
 "cells": [
  {
   "cell_type": "markdown",
   "metadata": {},
   "source": [
    "## draw matrix"
   ]
  },
  {
   "cell_type": "code",
   "execution_count": 2,
   "metadata": {
    "execution": {
     "iopub.execute_input": "2025-06-23T12:59:33.865962Z",
     "iopub.status.busy": "2025-06-23T12:59:33.865718Z",
     "iopub.status.idle": "2025-06-23T12:59:34.724429Z",
     "shell.execute_reply": "2025-06-23T12:59:34.724031Z",
     "shell.execute_reply.started": "2025-06-23T12:59:33.865947Z"
    }
   },
   "outputs": [
    {
     "data": {
      "image/png": "[encoded data removed]",
      "text/plain": [
       "<Figure size 1500x800 with 1 Axes>"
      ]
     },
     "metadata": {},
     "output_type": "display_data"
    }
   ],
   "source": [
    "import pandas as pd\n",
    "import numpy as np\n",
    "from pickle_file import save_obj, load_obj\n",
    "\n",
    "\n",
    "data_path = 'data_processing/data_files/task_space_data/'\n",
    "data_path_save = data_path + 'obj_tag_question_bipartite_core_space/'\n",
    "\n",
    "programming_language_std_adjusted = load_obj('programming_language_std_adjusted', data_path_save)\n",
    "language_dict = {l:i for i, l in enumerate(programming_language_std_adjusted)}\n",
    "\n",
    "df_check = pd.read_csv(data_path_save+f'task_language_nestedness/' +'language_frequency_check - Sheet1.csv')\n",
    "language_checker_list = list(df_check[df_check.make_sense.isin(['1', '0.5'])]['language'])\n",
    "language_col_selected = [language_dict[l] for l in language_checker_list]\n",
    "\n",
    "\n",
    "level = 1\n",
    "\n",
    "from matplotlib.colors import LinearSegmentedColormap\n",
    "import matplotlib.pyplot as plt\n",
    "import seaborn as sns\n",
    "\n",
    "import matplotlib.font_manager\n",
    "\n",
    "yr_list = [yr for yr in range(2008, 2024)]\n",
    "##! 每行是一个task\n",
    "tl_uc_matrix = load_obj(f'tl_user_count_matrix_all_year_level_{level}', data_path_save + f'task_language_nestedness/tl_matrix/')\n",
    "tl_uc_matrix = tl_uc_matrix[:, language_col_selected]\n",
    "tl_uc_matrix = np.where(tl_uc_matrix > 10, 1,0)\n",
    "tl_uc_matrix = tl_uc_matrix[:,np.argsort(np.sum(-tl_uc_matrix, axis = 0))]\n",
    "tl_uc_matrix = tl_uc_matrix[np.argsort(np.sum(-tl_uc_matrix, axis = 1)),:]\n",
    "\n",
    "plt.figure(figsize=(15,8))\n",
    "\n",
    "#从白色到红色再到黑色\n",
    "bounds = [0,0.5, 1]\n",
    "colors = ['#ffffff','#ff0000', '#A3AABE']\n",
    "cmap = LinearSegmentedColormap.from_list('mymap', list(zip(bounds, colors)), N = 2)\n",
    "sns.heatmap(tl_uc_matrix.T, cmap = cmap, cbar=False)\n",
    "\n",
    "y_label_name = 'language'\n",
    "x_label_name = 'task'\n",
    "\n",
    "plt.xlabel(x_label_name,fontsize=30, weight = 'bold')\n",
    "plt.ylabel(y_label_name,fontsize=30, weight = 'bold')\n",
    "#plt.title('2008 ~ 2023',fontsize=38, weight = 'bold')\n",
    "ax=plt.gca();#获得坐标轴的句柄\n",
    "ax.spines['bottom'].set_linewidth(2);###设置底部坐标轴的粗细\n",
    "ax.spines['left'].set_linewidth(2);####设置左边坐标轴的粗细\n",
    "ax.spines['right'].set_linewidth(2);###设置右边坐标轴的粗细\n",
    "ax.spines['top'].set_linewidth(2);####设置上部坐标轴的粗细\n",
    "ax.set_xticks([])\n",
    "ax.set_yticks([])\n",
    "\n",
    "#plt.savefig('figure_4a_task_language_heatmap.svg', format = 'svg', transparent = True)\n",
    "\n",
    "plt.show()\n"
   ]
  },
  {
   "cell_type": "markdown",
   "metadata": {},
   "source": [
    "## nestedness"
   ]
  },
  {
   "cell_type": "code",
   "execution_count": 3,
   "metadata": {
    "execution": {
     "iopub.execute_input": "2025-06-23T12:59:39.315759Z",
     "iopub.status.busy": "2025-06-23T12:59:39.315236Z",
     "iopub.status.idle": "2025-06-23T12:59:39.327273Z",
     "shell.execute_reply": "2025-06-23T12:59:39.326858Z",
     "shell.execute_reply.started": "2025-06-23T12:59:39.315743Z"
    }
   },
   "outputs": [],
   "source": [
    "import pandas as pd\n",
    "import numpy as np\n",
    "from pickle_file import save_obj, load_obj\n",
    "\n",
    "\n",
    "data_path = 'data_processing/data_files/task_space_data/'\n",
    "data_path_save = data_path + 'obj_tag_question_bipartite_core_space/'\n",
    "\n",
    "programming_language_std_adjusted = load_obj('programming_language_std_adjusted', data_path_save)\n",
    "language_dict = {l:i for i, l in enumerate(programming_language_std_adjusted)}\n",
    "\n",
    "df_check = pd.read_csv(data_path_save+f'task_language_nestedness/' +'language_frequency_check - Sheet1.csv')\n",
    "language_checker_list = list(df_check[df_check.make_sense.isin(['1', '0.5'])]['language'])\n",
    "language_col_selected = [language_dict[l] for l in language_checker_list]\n",
    "\n",
    "\n",
    "level = 1\n",
    "\n",
    "yr_list = [yr for yr in range(2008, 2024)]\n",
    "##! 每行是一个task\n",
    "tl_uc_matrix = load_obj(f'tl_user_count_matrix_all_year_level_{level}', data_path_save + f'task_language_nestedness/tl_matrix/')\n",
    "tl_uc_matrix = tl_uc_matrix[:, language_col_selected]\n",
    "tl_uc_matrix = np.where(tl_uc_matrix >= 10, 1,0)\n",
    "tl_uc_matrix = tl_uc_matrix[:,np.argsort(np.sum(-tl_uc_matrix, axis = 0))]\n",
    "tl_uc_matrix = tl_uc_matrix[np.argsort(np.sum(-tl_uc_matrix, axis = 1)),:]\n",
    "df = pd.DataFrame(np.array(tl_uc_matrix).T)\n",
    "df.to_csv(data_path_save + f'task_language_nestedness/tl_matrix/'+f'answer_language_task_matrix_all_year.csv', index=False, header=False)\n",
    "\n",
    "##! Run Rscript\n",
    "##! Rscript calculate_nestedness_all_year.R"
   ]
  },
  {
   "cell_type": "code",
   "execution_count": 5,
   "metadata": {
    "execution": {
     "iopub.execute_input": "2025-06-23T12:59:46.147745Z",
     "iopub.status.busy": "2025-06-23T12:59:46.147502Z",
     "iopub.status.idle": "2025-06-23T12:59:46.155836Z",
     "shell.execute_reply": "2025-06-23T12:59:46.155447Z",
     "shell.execute_reply.started": "2025-06-23T12:59:46.147731Z"
    }
   },
   "outputs": [
    {
     "name": "stdout",
     "output_type": "stream",
     "text": [
      "[81.45603112]\n",
      "[81.45603112]\n"
     ]
    }
   ],
   "source": [
    "import matplotlib.pyplot as plt\n",
    "import numpy as np\n",
    "import pandas as pd\n",
    "\n",
    "\n",
    "data_path = 'data_processing/data_files/task_space_data/'\n",
    "data_path_save = data_path + 'obj_tag_question_bipartite_core_space/'\n",
    "\n",
    "\n",
    "discrepancy_list  = np.array(pd.read_csv(data_path_save + f'task_language_nestedness/tl_matrix/' + 'discrepancy_matrix_all_year.csv')).T[0]\n",
    "discrepancy2_list = np.array(pd.read_csv(data_path_save + f'task_language_nestedness/tl_matrix/' + 'discrepancy2_matrix_all_year.csv')).T[0]\n",
    "binmatnest_list = np.array(pd.read_csv(data_path_save + f'task_language_nestedness/tl_matrix/' + 'binmatnest_matrix_all_year.csv')).T[0]\n",
    "NODF_list = np.array(pd.read_csv(data_path_save + f'task_language_nestedness/tl_matrix/' + 'NODF_matrix_all_year.csv')).T[0]\n",
    "NODF2_list = np.array(pd.read_csv(data_path_save + f'task_language_nestedness/tl_matrix/' + 'NODF2_matrix_all_year.csv')).T[0]\n",
    "checker_list = np.array(pd.read_csv(data_path_save + f'task_language_nestedness/tl_matrix/' + 'checker_matrix_all_year.csv')).T[0]\n",
    "\n",
    "print(NODF_list)\n",
    "print(NODF2_list)\n",
    "\n"
   ]
  },
  {
   "cell_type": "code",
   "execution_count": null,
   "metadata": {},
   "outputs": [],
   "source": []
  }
 ],
 "metadata": {
  "kernelspec": {
   "display_name": "Python 3 (ipykernel)",
   "language": "python",
   "name": "python3"
  },
  "language_info": {
   "codemirror_mode": {
    "name": "ipython",
    "version": 3
   },
   "file_extension": ".py",
   "mimetype": "text/x-python",
   "name": "python",
   "nbconvert_exporter": "python",
   "pygments_lexer": "ipython3",
   "version": "3.12.7"
  }
 },
 "nbformat": 4,
 "nbformat_minor": 4
}
