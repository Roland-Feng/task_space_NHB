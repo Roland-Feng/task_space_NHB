{
 "cells": [
  {
   "cell_type": "code",
   "execution_count": null,
   "metadata": {
    "execution": {
     "iopub.execute_input": "2025-06-23T12:48:30.060862Z",
     "iopub.status.busy": "2025-06-23T12:48:30.060623Z"
    }
   },
   "outputs": [],
   "source": [
    "from pickle_file import load_obj, save_obj\n",
    "from collections import defaultdict\n",
    "import numpy as np\n",
    "\n",
    "data_path = 'data_processing/data_files/task_space_data/'\n",
    "data_path_save = data_path + 'obj_tag_question_bipartite_core_space/'\n",
    "\n",
    "\n",
    "df_task_space = load_obj('umapdf_DBSCAN2_level1_user_count', data_path_save + 'task_space_draw/')\n",
    "df_cluster_adjusted = load_obj('cluster_conclusion_adjusted', data_path_save + 'task_space_draw/')\n",
    "\n",
    "color_yyahn = ['#e33831', '#f7ad30', '#8dc53e', '#cab6d9', '#08b07f', '#f2a794', '#ed643a', '#871918', '#a1d9e8', '#b985ba', '#d5c726', '#508dc4', '#2b2064', '#7d7d7d', '#7852A9', '#1db58f', '#faccbd', '#dc2227', '#609f5c', '#cd6c74', '#f293d1', '#f4a720', '#a08f27']\n",
    "\n",
    "df_task_space['yyahn_c'] = [color_yyahn[22-t] for t in df_task_space.cluster_inc_all]\n",
    "df_cluster_adjusted['yyahn_c'] = [color_yyahn[22-t] for t in df_cluster_adjusted.cluster]\n",
    "\n",
    "level = 1\n",
    "\n",
    "programming_language_std_adjusted = load_obj('programming_language_std_adjusted', data_path_save)\n",
    "L_dict = {l:i for i,l in enumerate(programming_language_std_adjusted)}\n",
    "community_list_core_std = load_obj(f\"community_list_std_core_cut_level{level}\", data_path_save + 'networks/probability/')\n",
    "C_dict = {c:i for i,c in enumerate(community_list_core_std)}\n",
    "community_core_level = load_obj(f\"community_core_with_cut_level{level}\", data_path_save + 'networks/probability/')\n",
    "\n",
    "tag_community_dict = {}\n",
    "for i,c in community_core_level.items():\n",
    "    for t in c:\n",
    "        tag_community_dict[t] = i\n",
    "\n",
    "import matplotlib.pyplot as plt\n",
    "\n",
    "task_user_set_all = defaultdict(set)\n",
    "for yr in range(2008, 2024):\n",
    "    task_user_set = load_obj(f'task_user_set_{yr}_level_{level}', data_path_save + 'vote_regression_together/user_c_l_list/')\n",
    "    for u, tsl in task_user_set.items():\n",
    "        for t in tsl:\n",
    "            task_user_set_all[t].add(u)\n",
    "\n",
    "task_user_count = {t:len(ul) for t, ul in task_user_set_all.items()}\n",
    "task_size_list = [np.sqrt(task_user_count[t[10:]]) * 1.2 for t in df_task_space.occ_code]\n",
    "\n",
    "fig = plt.figure(figsize=(15,10))\n",
    "\n",
    "plt.scatter(x = df_task_space.adjusted_x, y = df_task_space.adjusted_y, s = task_size_list, c = df_task_space.yyahn_c, alpha = 0.7)\n",
    "\n",
    "plt.scatter(x = df_task_space.adjusted_x, y = df_task_space.adjusted_y, s=task_size_list,c = 'none', edgecolors = df_task_space.yyahn_c, linewidths=1.5)\n",
    "\n",
    "for x, y, t,c in zip(df_cluster_adjusted.x, df_cluster_adjusted.y,df_cluster_adjusted.description, df_cluster_adjusted.yyahn_c):\n",
    "    plt.text(x,y,t, fontdict={'weight':'bold','size':17, 'c':c})\n",
    "    #plt.text(x,y,t)\n",
    "\n",
    "\n",
    "ax=plt.gca();#获得坐标轴的句柄\n",
    "ax.spines['bottom'].set_linewidth(0);###设置底部坐标轴的粗细\n",
    "ax.spines['left'].set_linewidth(0);####设置左边坐标轴的粗细\n",
    "ax.spines['right'].set_linewidth(0);###设置右边坐标轴的粗细\n",
    "ax.spines['top'].set_linewidth(0);####设置上部坐标轴的粗细\n",
    "\n",
    "plt.xticks([],[])\n",
    "plt.yticks([],[])\n",
    "#plt.savefig('output/figure_1b_task_space.svg', format = 'svg', transparent = True)\n",
    "\n",
    "plt.show()\n",
    "\n"
   ]
  },
  {
   "cell_type": "code",
   "execution_count": null,
   "metadata": {},
   "outputs": [],
   "source": []
  }
 ],
 "metadata": {
  "kernelspec": {
   "display_name": "Python 3 (ipykernel)",
   "language": "python",
   "name": "python3"
  },
  "language_info": {
   "codemirror_mode": {
    "name": "ipython",
    "version": 3
   },
   "file_extension": ".py",
   "mimetype": "text/x-python",
   "name": "python",
   "nbconvert_exporter": "python",
   "pygments_lexer": "ipython3",
   "version": "3.12.7"
  }
 },
 "nbformat": 4,
 "nbformat_minor": 4
}
