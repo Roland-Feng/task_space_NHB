{
 "cells": [
  {
   "cell_type": "code",
   "execution_count": null,
   "metadata": {},
   "outputs": [
    {
     "name": "stdout",
     "output_type": "stream",
     "text": [
      "level   1\n",
      "get_user_task_dict\n",
      "task year:  2008\n"
     ]
    },
    {
     "name": "stderr",
     "output_type": "stream",
     "text": [
      "184951it [00:01, 148113.24it/s]\n"
     ]
    },
    {
     "name": "stdout",
     "output_type": "stream",
     "text": [
      "task year:  2009\n"
     ]
    },
    {
     "name": "stderr",
     "output_type": "stream",
     "text": [
      "813876it [00:04, 169477.40it/s]\n"
     ]
    },
    {
     "name": "stdout",
     "output_type": "stream",
     "text": [
      "task year:  2010\n"
     ]
    },
    {
     "name": "stderr",
     "output_type": "stream",
     "text": [
      "1405143it [00:08, 172538.82it/s]\n"
     ]
    },
    {
     "name": "stdout",
     "output_type": "stream",
     "text": [
      "task year:  2011\n"
     ]
    },
    {
     "name": "stderr",
     "output_type": "stream",
     "text": [
      "2197201it [00:13, 164542.02it/s]\n"
     ]
    },
    {
     "name": "stdout",
     "output_type": "stream",
     "text": [
      "task year:  2012\n"
     ]
    },
    {
     "name": "stderr",
     "output_type": "stream",
     "text": [
      "1412903it [00:08, 153123.76it/s]"
     ]
    }
   ],
   "source": [
    "import importlib\n",
    "import answer_vote_regression_did #import the module here, so that it can be reloaded.\n",
    "importlib.reload(answer_vote_regression_did)\n",
    "from answer_vote_regression_did import *\n",
    "\n",
    "data_path = 'data_files/task_space_data/'\n",
    "data_path_save = data_path + 'obj_tag_question_bipartite_core_space/'\n",
    "\n",
    "programming_language_std_adjusted = set(load_obj('programming_language_std_adjusted', data_path_save))\n",
    "\n",
    "level_list = [1,3,2]\n",
    "year_list = [yr for yr in range(2008,2024)]\n",
    "\n",
    "##! user的所有tag，包括没有用来建立网络的\n",
    "print('set_user_tagall_set')\n",
    "get_user_answer_tagall_set(data_path, data_path_save)\n",
    "\n",
    "\n",
    "for level in level_list:\n",
    "    print(\"level  \", level)\n",
    "    tag_bool_core = load_obj(f\"core_bool_with_cut_level{level}\", data_path_save + 'networks/probability/')\n",
    "    G_tag_core = load_obj(f\"G_tag_core_with_cut_level{level}\", data_path_save + 'networks/probability/')\n",
    "\n",
    "    #* user的各种task数量, 'user_task_count_by_year_level_{level}_{yr}'\n",
    "    print('get_user_task_dict')\n",
    "    get_user_task_dict(data_path, data_path_save, G_tag_core, tag_bool_core, year_list, level)\n",
    "    #* user的task set\n",
    "    get_answer_task_set(data_path_save, tag_bool_core, year_list, level)\n",
    "\n",
    "    #* answer的language数量和task数量, 'answer_language_length_{level}_{yr}', 'answer_task_length_{level}_{yr}'\n",
    "    print('get_answer_task_language_length')\n",
    "    get_answer_task_language_length(data_path, data_path_save, programming_language_std_adjusted, G_tag_core, tag_bool_core, level)\n",
    "\n",
    "    get_user_task_language_dict(data_path, data_path_save, programming_language_std_adjusted, year_list, G_tag_core, tag_bool_core, level)\n",
    "\n",
    "    \n",
    "#* user的各种language数量, 'user_language_count_by_year_{yr}'\n",
    "print('get_user_language_dict')\n",
    "get_user_language_dict(data_path, data_path_save, programming_language_std_adjusted, year_list)\n",
    "\n",
    "#* [0: parent_answer_num, 1: parent_answer_vote, 2: parent_vote, 3: parent_id]\n",
    "#* 'answer_parent_num_vote_{yr}'\n",
    "print('get_answer_parent_vote')\n",
    "get_answer_parent_vote(data_path, data_path_save)\n",
    "\n",
    "#* user的answer history, 'user_answer_history_{yr}'\n",
    "print('get_user_answer_history')\n",
    "get_user_answer_history(data_path, data_path_save)\n",
    "\n",
    "print('get_python_user')\n",
    "get_python_user(data_path, data_path_save, 0.1)\n",
    "\n",
    "print('get_question_answer_time')\n",
    "get_question_answer_time(data_path, data_path_save)\n",
    "\n",
    "print('get_answer_ranks')\n",
    "get_answer_vote_rank(data_path, data_path_save)\n",
    "\n",
    "print('get_answer_time_ranks')\n",
    "get_answer_time_rank(data_path, data_path_save)\n"
   ]
  },
  {
   "cell_type": "code",
   "execution_count": null,
   "metadata": {},
   "outputs": [],
   "source": [
    "import importlib\n",
    "import answer_vote_regression_did #import the module here, so that it can be reloaded.\n",
    "importlib.reload(answer_vote_regression_did)\n",
    "from answer_vote_regression_did import *\n",
    "\n",
    "data_path = 'data_files/task_space_data/'\n",
    "data_path_save = data_path + 'obj_tag_question_bipartite_core_space/'\n",
    "\n",
    "\n",
    "#* user d major language\n",
    "level = 1\n",
    "\n",
    "year_period = 2\n",
    "\n",
    "for yr in range(2008 + year_period + 1, 2024):\n",
    "    yr_list = [yr - year_period + i for i in range(year_period)]\n",
    "    print(yr_list)\n",
    "    collect_user_major_language_year(data_path_save, yr_list)\n",
    "\n",
    "\n",
    "for yr in range(2008, 2024):\n",
    "    yr_list = [yr]\n",
    "    print(yr_list)\n",
    "    collect_user_major_language_year(data_path_save, yr_list)\n",
    "\n",
    "collect_user_major_language_year(data_path_save, [yr for yr in range(2008, 2024)])"
   ]
  },
  {
   "cell_type": "code",
   "execution_count": null,
   "metadata": {},
   "outputs": [],
   "source": []
  }
 ],
 "metadata": {
  "kernelspec": {
   "display_name": "stack_overflow",
   "language": "python",
   "name": "python3"
  },
  "language_info": {
   "codemirror_mode": {
    "name": "ipython",
    "version": 3
   },
   "file_extension": ".py",
   "mimetype": "text/x-python",
   "name": "python",
   "nbconvert_exporter": "python",
   "pygments_lexer": "ipython3",
   "version": "3.9.18"
  }
 },
 "nbformat": 4,
 "nbformat_minor": 2
}
