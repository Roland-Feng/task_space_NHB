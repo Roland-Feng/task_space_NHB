{
 "cells": [
  {
   "cell_type": "code",
   "execution_count": null,
   "metadata": {},
   "outputs": [],
   "source": [
    "from pickle_file import load_obj, save_obj\n",
    "\n",
    "data_path = 'data_files/task_space_data/'\n",
    "data_path_save = data_path + 'obj_tag_question_bipartite_core_space/'\n",
    "\n",
    "\n",
    "tag_count = load_obj('tag_count_all', data_path)\n",
    "tag_count_dict = {tc[0]:tc[1] for tc in tag_count}\n",
    "\n",
    "\n",
    "level = 1\n",
    "community_cores_with_cut1 = load_obj(f\"community_core_with_cut_level{level}\", data_path_save + 'networks/probability/')\n",
    "\n",
    "community_cores_with_cut1_sorted = {c:[] for c in community_cores_with_cut1.keys()}\n",
    "for c, ts in community_cores_with_cut1.items():\n",
    "    tsc = [tag_count_dict[t] for t in ts]\n",
    "    if len(tsc) > 0:\n",
    "        tsc, ts = zip(*sorted(zip(tsc,ts), reverse=True))\n",
    "        community_cores_with_cut1_sorted[c] = [t for t in ts]\n",
    "    \n",
    "\n"
   ]
  },
  {
   "cell_type": "markdown",
   "metadata": {},
   "source": [
    "## 30 words and conclude"
   ]
  },
  {
   "cell_type": "code",
   "execution_count": null,
   "metadata": {},
   "outputs": [],
   "source": [
    "from openai import OpenAI\n",
    "from tqdm import tqdm\n",
    "\n",
    "task_unweighted_level1_general = {}\n",
    "## input your key\n",
    "client = OpenAI(api_key='sk-proj-o7Whorgu')\n",
    "\n",
    "for ci in tqdm(community_cores_with_cut1_sorted.keys()):\n",
    "    \n",
    "    response = client.chat.completions.create(\n",
    "      model=\"gpt-4-0125-preview\",\n",
    "      response_format={ \"type\": \"json_object\" },\n",
    "      messages=[\n",
    "        {\"role\": \"system\", \"content\": \"You are a helpful assistant designed to output JSON. You are an expert in software engineer.\"},\n",
    "        {\"role\": \"user\", \"content\": f\"I have a list of tags related to software engineer and computer science: {community_cores_with_cut1_sorted[ci]}. The tags are ordered by their importance and the fronter the more important. Please using no more than 30 words, give me a general task related to the following tags with 'task_description' as key name. Please make sure that the task is a general task and not too specific. Then try to conclude this task using less than 10 words with 'task_conclude' as key name. Please only return the json content and not anything else.\"}\n",
    "      ]\n",
    "    )\n",
    "    \n",
    "    task_unweighted_level1_general[ci] = response.choices[0].message.content"
   ]
  },
  {
   "cell_type": "code",
   "execution_count": null,
   "metadata": {},
   "outputs": [],
   "source": [
    "save_obj(task_unweighted_level1_general, f'gpt4_task_unweighted_level{level}_general', data_path_save + 'networks/probability/')"
   ]
  },
  {
   "cell_type": "markdown",
   "metadata": {},
   "source": [
    "## 20 words"
   ]
  },
  {
   "cell_type": "code",
   "execution_count": null,
   "metadata": {},
   "outputs": [],
   "source": [
    "from openai import OpenAI\n",
    "from tqdm import tqdm\n",
    "\n",
    "task_unweighted_level1_general_20word = {}\n",
    "## input your key\n",
    "client = OpenAI(api_key='sk-proj-o7Whor')\n",
    "\n",
    "for ci in tqdm(community_cores_with_cut1_sorted.keys()):\n",
    "    \n",
    "    response = client.chat.completions.create(\n",
    "      model=\"gpt-4-0125-preview\",\n",
    "      response_format={ \"type\": \"json_object\" },\n",
    "      messages=[\n",
    "        {\"role\": \"system\", \"content\": \"You are a helpful assistant designed to output JSON. You are an expert in software engineer.\"},\n",
    "        {\"role\": \"user\", \"content\": f\"I have a list of tags related to software engineer and computer science: {community_cores_with_cut1_sorted[ci]}. The tags are ordered by their importance and the fronter the more important. Please using no more than 20 words, give me a general task related to the following tags with 'task_description' as key name. Please make sure that the task is a general task and not too specific. Please only return the json content and not anything else.\"}\n",
    "      ]\n",
    "    )\n",
    "    \n",
    "    task_unweighted_level1_general_20word[ci] = response.choices[0].message.content"
   ]
  },
  {
   "cell_type": "code",
   "execution_count": null,
   "metadata": {},
   "outputs": [],
   "source": [
    "save_obj(task_unweighted_level1_general_20word, f'gpt4_task_unweighted_level{level}_general_20_words', data_path_save + 'networks/probability/')"
   ]
  },
  {
   "cell_type": "markdown",
   "metadata": {},
   "source": [
    "## 10 words"
   ]
  },
  {
   "cell_type": "code",
   "execution_count": null,
   "metadata": {},
   "outputs": [],
   "source": [
    "from openai import OpenAI\n",
    "from tqdm import tqdm\n",
    "\n",
    "task_unweighted_level1_general_10word = {}\n",
    "## input your key\n",
    "client = OpenAI(api_key='sk-proj-o')\n",
    "\n",
    "for ci in tqdm(community_cores_with_cut1_sorted.keys()):\n",
    "    \n",
    "    response = client.chat.completions.create(\n",
    "      model=\"gpt-4-0125-preview\",\n",
    "      response_format={ \"type\": \"json_object\" },\n",
    "      messages=[\n",
    "        {\"role\": \"system\", \"content\": \"You are a helpful assistant designed to output JSON. You are an expert in software engineer.\"},\n",
    "        {\"role\": \"user\", \"content\": f\"I have a list of tags related to software engineer and computer science: {community_cores_with_cut1_sorted[ci]}. The tags are ordered by their importance and the fronter the more important. Please using no more than 10 words, give me a general task related to the following tags with 'task_description' as key name. Please make sure that the task is a general task and not too specific. Please only return the json content and not anything else.\"}\n",
    "      ]\n",
    "    )\n",
    "    \n",
    "    task_unweighted_level1_general_10word[ci] = response.choices[0].message.content"
   ]
  },
  {
   "cell_type": "code",
   "execution_count": null,
   "metadata": {},
   "outputs": [],
   "source": [
    "save_obj(task_unweighted_level1_general_10word, f'gpt4_task_unweighted_level{level}_general_10_words', data_path_save + 'networks/probability/')"
   ]
  },
  {
   "cell_type": "markdown",
   "metadata": {},
   "source": [
    "## 5 words"
   ]
  },
  {
   "cell_type": "code",
   "execution_count": null,
   "metadata": {},
   "outputs": [],
   "source": [
    "from openai import OpenAI\n",
    "from tqdm import tqdm\n",
    "\n",
    "task_unweighted_level1_general_5word = {}\n",
    "\n",
    "## input your key\n",
    "client = OpenAI(api_key='sk-proj')\n",
    "\n",
    "for ci in tqdm(community_cores_with_cut1_sorted.keys()):\n",
    "    \n",
    "    response = client.chat.completions.create(\n",
    "      model=\"gpt-4-0125-preview\",\n",
    "      response_format={ \"type\": \"json_object\" },\n",
    "      messages=[\n",
    "        {\"role\": \"system\", \"content\": \"You are a helpful assistant designed to output JSON. You are an expert in software engineer.\"},\n",
    "        {\"role\": \"user\", \"content\": f\"I have a list of tags related to software engineer and computer science: {community_cores_with_cut1_sorted[ci]}. The tags are ordered by their importance and the fronter the more important. Please using no more than 5 words, give me a general task related to the following tags with 'task_description' as key name. Please make sure that the task is a general task and not too specific. Please only return the json content and not anything else.\"}\n",
    "      ]\n",
    "    )\n",
    "    \n",
    "    task_unweighted_level1_general_5word[ci] = response.choices[0].message.content"
   ]
  },
  {
   "cell_type": "code",
   "execution_count": null,
   "metadata": {},
   "outputs": [],
   "source": [
    "save_obj(task_unweighted_level1_general_5word, f'gpt4_task_unweighted_level{level}_general_5_words', data_path_save + 'networks/probability/')"
   ]
  },
  {
   "cell_type": "code",
   "execution_count": null,
   "metadata": {},
   "outputs": [],
   "source": []
  },
  {
   "cell_type": "code",
   "execution_count": null,
   "metadata": {},
   "outputs": [],
   "source": []
  },
  {
   "cell_type": "code",
   "execution_count": null,
   "metadata": {},
   "outputs": [],
   "source": []
  },
  {
   "cell_type": "markdown",
   "metadata": {},
   "source": [
    "# combine into dataframe"
   ]
  },
  {
   "cell_type": "code",
   "execution_count": null,
   "metadata": {},
   "outputs": [],
   "source": []
  },
  {
   "cell_type": "code",
   "execution_count": null,
   "metadata": {},
   "outputs": [],
   "source": []
  },
  {
   "cell_type": "code",
   "execution_count": null,
   "metadata": {},
   "outputs": [],
   "source": []
  },
  {
   "cell_type": "code",
   "execution_count": null,
   "metadata": {},
   "outputs": [],
   "source": []
  },
  {
   "cell_type": "code",
   "execution_count": null,
   "metadata": {},
   "outputs": [],
   "source": [
    "from pickle_file import load_obj\n",
    "import json\n",
    "import pandas as pd\n",
    "\n",
    "data_path = 'data_files/task_space_data/'\n",
    "data_path_save = data_path + 'obj_tag_question_bipartite_core_space/'\n",
    "\n",
    "\n",
    "tag_count = load_obj('tag_count_all', data_path)\n",
    "tag_count_dict = {tc[0]:tc[1] for tc in tag_count}\n",
    "\n",
    "for level in [1]:\n",
    "    community_cores_with_cut = load_obj(f\"community_core_with_cut_level{level}\", data_path_save + 'networks/probability/')\n",
    "\n",
    "    community_cores_with_cut_sorted = {c:[] for c in community_cores_with_cut.keys()}\n",
    "    for c, ts in community_cores_with_cut.items():\n",
    "        tsc = [tag_count_dict[t] for t in ts]\n",
    "        if len(tsc) > 0:\n",
    "            tsc, ts = zip(*sorted(zip(tsc,ts), reverse=True))\n",
    "            community_cores_with_cut_sorted[c] = [t for t in ts]\n",
    "\n",
    "    task_unweighted_level_general = load_obj(f'gpt4_task_unweighted_level{level}_general', data_path_save + 'networks/probability/')\n",
    "    task_unweighted_level_general_20word = load_obj(f'gpt4_task_unweighted_level{level}_general_20_words', data_path_save + 'networks/probability/')\n",
    "    task_unweighted_level_general_10word = load_obj(f'gpt4_task_unweighted_level{level}_general_10_words', data_path_save + 'networks/probability/')\n",
    "    task_unweighted_level_general_5word = load_obj(f'gpt4_task_unweighted_level{level}_general_5_words', data_path_save + 'networks/probability/')\n",
    "    \n",
    "    list_c = []\n",
    "    list_ts = []\n",
    "    list_30 = []\n",
    "    list_20 = []\n",
    "    list_10 = []\n",
    "    list_5 = []\n",
    "    list_conclude = []\n",
    "    for c, ts in community_cores_with_cut_sorted.items():\n",
    "        list_c.append(c)\n",
    "        list_ts.append(ts)\n",
    "        if len(ts) > 0:\n",
    "            if c == '231':\n",
    "                d = json.loads(task_unweighted_level_general[c])\n",
    "                list_30.append(d['task_description'])\n",
    "                list_conclude.append(d['task_conclude'].replace(';',','))\n",
    "                list_20.append(json.loads(task_unweighted_level_general_20word[c])['task_description'])\n",
    "                list_10.append(json.loads(task_unweighted_level_general_10word[c])['task_description'])\n",
    "                list_5.append(json.loads(task_unweighted_level_general_5word[c])['task_description'])\n",
    "            else:\n",
    "                d = json.loads(task_unweighted_level_general[c])\n",
    "                list_30.append(d['task_description'])\n",
    "                list_conclude.append(d['task_conclude'])\n",
    "                list_20.append(json.loads(task_unweighted_level_general_20word[c])['task_description'])\n",
    "                list_10.append(json.loads(task_unweighted_level_general_10word[c])['task_description'])\n",
    "                list_5.append(json.loads(task_unweighted_level_general_5word[c])['task_description'])\n",
    "\n",
    "        else:\n",
    "            list_30.append(None)\n",
    "            list_conclude.append(None)\n",
    "            list_20.append(None)\n",
    "            list_10.append(None)\n",
    "            list_5.append(None)\n",
    "\n",
    "    df = pd.DataFrame.from_dict({'task_id':list_c, 'tags':list_ts, 'task_description_30_words': list_30, 'task_description_20_words': list_20, 'task_description_10_words':list_10, 'task_description_5_words':list_5, 'task_description_conclude': list_conclude})\n",
    "\n",
    "    df.to_csv(data_path_save + 'networks/probability/' + f'task_description_30_20_10_5_community_core_with_cut_level_{level}.csv')\n",
    "        \n",
    "\n",
    "\n",
    "\n"
   ]
  }
 ],
 "metadata": {
  "kernelspec": {
   "display_name": "stack_overflow",
   "language": "python",
   "name": "python3"
  },
  "language_info": {
   "codemirror_mode": {
    "name": "ipython",
    "version": 3
   },
   "file_extension": ".py",
   "mimetype": "text/x-python",
   "name": "python",
   "nbconvert_exporter": "python",
   "pygments_lexer": "ipython3",
   "version": "3.9.18"
  }
 },
 "nbformat": 4,
 "nbformat_minor": 2
}
