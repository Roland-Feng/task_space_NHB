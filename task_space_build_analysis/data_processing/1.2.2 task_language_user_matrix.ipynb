{
 "cells": [
  {
   "cell_type": "code",
   "execution_count": null,
   "metadata": {},
   "outputs": [
    {
     "name": "stdout",
     "output_type": "stream",
     "text": [
      "2008\n",
      "2009\n",
      "2010\n",
      "2011\n",
      "2012\n",
      "2013\n",
      "2014\n",
      "2015\n",
      "2016\n",
      "2017\n",
      "2018\n",
      "2019\n",
      "2020\n",
      "2021\n",
      "2022\n",
      "2023\n"
     ]
    }
   ],
   "source": [
    "import importlib\n",
    "import task_language_matrix #import the module here, so that it can be reloaded.\n",
    "importlib.reload(task_language_matrix)\n",
    "from task_language_matrix import *\n",
    "\n",
    "data_path = 'data_files/task_space_data/'\n",
    "data_path_save = data_path + 'obj_tag_question_bipartite_core_space/'\n",
    "\n",
    "\n",
    "threshold_user_bool = load_obj('all_threshold_user_bool', data_path_save + f'vote_regression_together/')\n",
    "\n",
    "\n",
    "language_merge_dict = {'python':['python_3.x', 'python_2.7', 'python_3.6', 'python_2.x', 'python_3.4', 'python_3.3', 'python_3.10', 'python_2.5'],\n",
    "                    'c++':['c++11', 'c++17', 'c++14'],\n",
    "                    'actionscript_3':['actionscript', 'actionscript_2'],\n",
    "                    'asp.net_mvc':['asp.net_mvc_3', 'asp.net_mvc_4'],\n",
    "                    'sql_server':['sql_server_2008', 'sql_server_2005'],\n",
    "                    'laravel':['laravel_5'],\n",
    "                    'c#':['c#_4.0', 'c#_2.0', 'c#_5.0', 'c#_8.0'],\n",
    "                    'swift':['swift3', 'swift2','swift4','swift4.2'],\n",
    "                    'java':['java_8'],\n",
    "                    'ruby':['ruby_2.0'],\n",
    "                    'ruby_on_rails':['ruby_on_rails_3', 'ruby_on_rails_4', 'ruby_on_rails_7'],\n",
    "                    'powershell':['powershell_3.0', 'powershell_4.0', 'powershell_5.0']}\n",
    "\n",
    "\n",
    "for level in [1]:\n",
    "\n",
    "    programming_language_std_adjusted = load_obj('programming_language_std_adjusted', data_path_save)\n",
    "    community_list_core_std = load_obj(f\"community_list_std_core_cut_level{level}\", data_path_save + 'networks/probability/')\n",
    "\n",
    "    for yr in range(2008, 2024):\n",
    "        print(yr)\n",
    "        #collect_task_language_user_count_matrix_answer(data_path_save, [yr], level, programming_language_std_adjusted, community_list_core_std, threshold_user_bool)\n",
    "        collect_task_language_user_count_matrix_answer_with_merge(data_path_save, [yr], level, programming_language_std_adjusted, community_list_core_std, threshold_user_bool, language_merge_dict)\n",
    "        collect_language_user_count_matrix_answer_with_merge(data_path_save, [yr], programming_language_std_adjusted, threshold_user_bool, language_merge_dict)"
   ]
  },
  {
   "cell_type": "code",
   "execution_count": null,
   "metadata": {},
   "outputs": [],
   "source": [
    "import importlib\n",
    "import task_language_matrix #import the module here, so that it can be reloaded.\n",
    "importlib.reload(task_language_matrix)\n",
    "from task_language_matrix import *\n",
    "\n",
    "data_path = 'data_files/task_space_data/'\n",
    "data_path_save = data_path + 'obj_tag_question_bipartite_core_space/'\n",
    "\n",
    "\n",
    "language_merge_dict = {'python':['python_3.x', 'python_2.7', 'python_3.6', 'python_2.x', 'python_3.4', 'python_3.3', 'python_3.10', 'python_2.5'],\n",
    "                    'c++':['c++11', 'c++17', 'c++14'],\n",
    "                    'actionscript_3':['actionscript', 'actionscript_2'],\n",
    "                    'asp.net_mvc':['asp.net_mvc_3', 'asp.net_mvc_4'],\n",
    "                    'sql_server':['sql_server_2008', 'sql_server_2005'],\n",
    "                    'laravel':['laravel_5'],\n",
    "                    'c#':['c#_4.0', 'c#_2.0', 'c#_5.0', 'c#_8.0'],\n",
    "                    'swift':['swift3', 'swift2','swift4','swift4.2'],\n",
    "                    'java':['java_8'],\n",
    "                    'ruby':['ruby_2.0'],\n",
    "                    'ruby_on_rails':['ruby_on_rails_3', 'ruby_on_rails_4', 'ruby_on_rails_7'],\n",
    "                    'powershell':['powershell_3.0', 'powershell_4.0', 'powershell_5.0']}\n",
    "\n",
    "threshold_user_bool = load_obj('all_threshold_user_bool', data_path_save + f'vote_regression_together/')\n",
    "\n",
    "for level in [1]:\n",
    "\n",
    "    programming_language_std_adjusted = load_obj('programming_language_std_adjusted', data_path_save)\n",
    "    community_list_core_std = load_obj(f\"community_list_std_core_cut_level{level}\", data_path_save + 'networks/probability/')\n",
    "\n",
    "    #collect_task_language_user_count_matrix_answer(data_path_save, [yr for yr in range(2008, 2024)], level, programming_language_std_adjusted, community_list_core_std, threshold_user_bool)\n",
    "    collect_task_language_user_count_matrix_answer_with_merge_all_year(data_path_save, [yr for yr in range(2008, 2024)], level, programming_language_std_adjusted, community_list_core_std, threshold_user_bool, language_merge_dict)\n",
    "    collect_language_user_count_matrix_answer_with_merge_all_year(data_path_save, [yr for yr in range(2008, 2024)], programming_language_std_adjusted, threshold_user_bool, language_merge_dict)"
   ]
  },
  {
   "cell_type": "code",
   "execution_count": null,
   "metadata": {},
   "outputs": [],
   "source": []
  }
 ],
 "metadata": {
  "kernelspec": {
   "display_name": "stack_overflow",
   "language": "python",
   "name": "python3"
  },
  "language_info": {
   "codemirror_mode": {
    "name": "ipython",
    "version": 3
   },
   "file_extension": ".py",
   "mimetype": "text/x-python",
   "name": "python",
   "nbconvert_exporter": "python",
   "pygments_lexer": "ipython3",
   "version": "3.9.18"
  }
 },
 "nbformat": 4,
 "nbformat_minor": 2
}
