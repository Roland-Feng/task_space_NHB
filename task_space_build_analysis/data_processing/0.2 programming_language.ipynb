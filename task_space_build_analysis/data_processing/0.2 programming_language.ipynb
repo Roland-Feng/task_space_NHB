{
 "cells": [
  {
   "cell_type": "markdown",
   "metadata": {},
   "source": [
    "# adjusted tag_bool and language"
   ]
  },
  {
   "cell_type": "code",
   "execution_count": null,
   "metadata": {},
   "outputs": [],
   "source": [
    "import json\n",
    "import random\n",
    "from tqdm import tqdm\n",
    "from pickle_file import load_obj, save_obj\n",
    "import pandas as pd\n",
    "import numpy as np\n",
    "from collections import defaultdict\n",
    "\n",
    "data_path = 'data_files/task_space_data/'\n",
    "data_path_save = data_path + 'obj_tag_question_bipartite_core_space/'\n",
    "\n",
    "tag_count = load_obj('tag_count_all', data_path)\n",
    "tag_count_threshold = 1000\n",
    "\n",
    "dtype = {\"programming_language\":str, \"tag_count\":str, \"keep\":str}\n",
    "pl_filtered = pd.read_csv(data_path_save + 'programming languages filtered - Sheet1.csv', dtype = dtype).dropna()\n",
    "\n",
    "\n",
    "dtype = {\"TAG\":str, \"tag_count\":str, \"keep\":str}\n",
    "nonpl_filtered = pd.read_csv(data_path_save + 'non programming language - filtered - Sheet1.csv', dtype = dtype).dropna()\n",
    "\n",
    "\n",
    "dtype = {\"LF_TAG\":str, \"tag_count\":str, \"keep\":str}\n",
    "LFtag_filtered = pd.read_csv(data_path_save + 'less frequent tags filtered - Sheet1.csv', dtype = dtype).dropna()\n",
    "\n",
    "programming_language_std_adjusted = []\n",
    "for pl, k in zip(pl_filtered['programming_language'], pl_filtered['keep']):\n",
    "    if k == '0':\n",
    "        programming_language_std_adjusted.append(pl)\n",
    "\n",
    "\n",
    "for pl, k in zip(nonpl_filtered['TAG'], nonpl_filtered['keep']):\n",
    "    if k == '0':\n",
    "        programming_language_std_adjusted.append(pl)\n",
    "        \n",
    "\n",
    "tag_bool_adjusted = {t[0]:False for t in tag_count}\n",
    "for tc in tag_count:\n",
    "    if tc[1] > tag_count_threshold and tc[0] not in programming_language_std_adjusted:\n",
    "        tag_bool_adjusted[tc[0]] = True\n",
    "\n",
    "\n",
    "for lftag, k in zip(LFtag_filtered['LF_TAG'], LFtag_filtered['keep']):\n",
    "    if k == '1':\n",
    "        tag_bool_adjusted[lftag] = True\n",
    "\n",
    "save_obj(tag_bool_adjusted, 'tag_bool_threshold_adjusted', data_path_save)\n",
    "save_obj(programming_language_std_adjusted, 'programming_language_std_adjusted', data_path_save)"
   ]
  },
  {
   "cell_type": "code",
   "execution_count": null,
   "metadata": {},
   "outputs": [],
   "source": []
  },
  {
   "cell_type": "code",
   "execution_count": null,
   "metadata": {},
   "outputs": [],
   "source": []
  }
 ],
 "metadata": {
  "kernelspec": {
   "display_name": "stack_overflow",
   "language": "python",
   "name": "python3"
  },
  "language_info": {
   "codemirror_mode": {
    "name": "ipython",
    "version": 3
   },
   "file_extension": ".py",
   "mimetype": "text/x-python",
   "name": "python",
   "nbconvert_exporter": "python",
   "pygments_lexer": "ipython3",
   "version": "3.9.18"
  }
 },
 "nbformat": 4,
 "nbformat_minor": 2
}
