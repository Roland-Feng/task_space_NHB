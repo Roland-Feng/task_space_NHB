{
 "cells": [
  {
   "cell_type": "code",
   "execution_count": null,
   "metadata": {},
   "outputs": [],
   "source": [
    "import importlib\n",
    "import user_task_collection #import the module here, so that it can be reloaded.\n",
    "importlib.reload(user_task_collection)\n",
    "from user_task_collection import *\n",
    "\n",
    "data_path = 'data_files/task_space_data/'\n",
    "data_path_save = data_path + 'obj_tag_question_bipartite_core_space/'\n",
    "\n",
    "\n",
    "level = 1\n",
    "community_list_core_std = load_obj(f\"community_list_std_core_cut_level{level}\", data_path_save + 'networks/probability/')\n",
    "\n",
    "#sample_user_label = 'half_user'\n",
    "#sample_user_label = 'all_threshold_user'\n",
    "sample_user_label = 'all_answer_user'\n",
    "\n",
    "for yr in range(2008, 2024):\n",
    "    yr_list = [yr]\n",
    "    print(yr_list)\n",
    "    build_user_activity_dataframe(data_path_save, yr_list, yr, level, sample_user_label)\n"
   ]
  },
  {
   "cell_type": "code",
   "execution_count": null,
   "metadata": {},
   "outputs": [],
   "source": [
    "df_list = []\n",
    "for yr in range(2008, 2024):\n",
    "    year_label = yr\n",
    "    df = pd.read_csv(data_path_save + 'vote_regression_together/user_task_collection/df_sample/' + f'df_{sample_user_label}_task_activity_{year_label}_level_{level}.csv')\n",
    "    df_list.append(df)\n",
    "\n",
    "df_all = pd.concat(df_list)\n",
    "df_all.to_csv(data_path_save + 'vote_regression_together/user_task_collection/df_sample/' + f'df_{sample_user_label}_task_activity_2008_2023_level_{level}.csv')"
   ]
  },
  {
   "cell_type": "code",
   "execution_count": null,
   "metadata": {},
   "outputs": [],
   "source": []
  }
 ],
 "metadata": {
  "language_info": {
   "name": "python"
  }
 },
 "nbformat": 4,
 "nbformat_minor": 2
}
