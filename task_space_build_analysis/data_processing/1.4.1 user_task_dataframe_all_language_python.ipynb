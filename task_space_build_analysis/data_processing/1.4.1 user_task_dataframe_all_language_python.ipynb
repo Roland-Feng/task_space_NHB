{
 "cells": [
  {
   "cell_type": "markdown",
   "metadata": {},
   "source": [
    "# only python"
   ]
  },
  {
   "cell_type": "code",
   "execution_count": null,
   "metadata": {},
   "outputs": [
    {
     "name": "stdout",
     "output_type": "stream",
     "text": [
      "level   1\n",
      "get_user_task_dict\n",
      "task year:  2008\n"
     ]
    },
    {
     "name": "stderr",
     "output_type": "stream",
     "text": [
      "184951it [00:00, 187840.92it/s]\n"
     ]
    },
    {
     "name": "stdout",
     "output_type": "stream",
     "text": [
      "task year:  2009\n"
     ]
    },
    {
     "name": "stderr",
     "output_type": "stream",
     "text": [
      "813876it [00:04, 187415.27it/s]\n"
     ]
    },
    {
     "name": "stdout",
     "output_type": "stream",
     "text": [
      "task year:  2010\n"
     ]
    },
    {
     "name": "stderr",
     "output_type": "stream",
     "text": [
      "1405143it [00:08, 173128.45it/s]\n"
     ]
    },
    {
     "name": "stdout",
     "output_type": "stream",
     "text": [
      "task year:  2011\n"
     ]
    },
    {
     "name": "stderr",
     "output_type": "stream",
     "text": [
      "2197201it [00:19, 110082.70it/s]\n"
     ]
    },
    {
     "name": "stdout",
     "output_type": "stream",
     "text": [
      "task year:  2012\n"
     ]
    },
    {
     "name": "stderr",
     "output_type": "stream",
     "text": [
      "2739530it [00:48, 56362.11it/s]\n"
     ]
    },
    {
     "name": "stdout",
     "output_type": "stream",
     "text": [
      "task year:  2013\n"
     ]
    },
    {
     "name": "stderr",
     "output_type": "stream",
     "text": [
      "3205909it [00:50, 64091.10it/s] \n"
     ]
    },
    {
     "name": "stdout",
     "output_type": "stream",
     "text": [
      "task year:  2014\n"
     ]
    },
    {
     "name": "stderr",
     "output_type": "stream",
     "text": [
      "3093186it [00:19, 162637.05it/s]\n"
     ]
    },
    {
     "name": "stdout",
     "output_type": "stream",
     "text": [
      "task year:  2015\n"
     ]
    },
    {
     "name": "stderr",
     "output_type": "stream",
     "text": [
      "3039035it [00:19, 155455.75it/s]\n"
     ]
    },
    {
     "name": "stdout",
     "output_type": "stream",
     "text": [
      "task year:  2016\n"
     ]
    },
    {
     "name": "stderr",
     "output_type": "stream",
     "text": [
      "2969988it [00:21, 136244.42it/s]\n"
     ]
    },
    {
     "name": "stdout",
     "output_type": "stream",
     "text": [
      "task year:  2017\n"
     ]
    },
    {
     "name": "stderr",
     "output_type": "stream",
     "text": [
      "2797056it [00:18, 155089.06it/s]\n"
     ]
    },
    {
     "name": "stdout",
     "output_type": "stream",
     "text": [
      "task year:  2018\n"
     ]
    },
    {
     "name": "stderr",
     "output_type": "stream",
     "text": [
      "2458635it [00:16, 149077.36it/s]\n"
     ]
    },
    {
     "name": "stdout",
     "output_type": "stream",
     "text": [
      "task year:  2019\n"
     ]
    },
    {
     "name": "stderr",
     "output_type": "stream",
     "text": [
      "2319577it [00:19, 116804.16it/s]\n"
     ]
    },
    {
     "name": "stdout",
     "output_type": "stream",
     "text": [
      "task year:  2020\n"
     ]
    },
    {
     "name": "stderr",
     "output_type": "stream",
     "text": [
      "2361830it [00:43, 54250.91it/s]\n"
     ]
    },
    {
     "name": "stdout",
     "output_type": "stream",
     "text": [
      "task year:  2021\n"
     ]
    },
    {
     "name": "stderr",
     "output_type": "stream",
     "text": [
      "1939169it [00:34, 56471.32it/s]\n"
     ]
    },
    {
     "name": "stdout",
     "output_type": "stream",
     "text": [
      "task year:  2022\n"
     ]
    },
    {
     "name": "stderr",
     "output_type": "stream",
     "text": [
      "1695331it [00:31, 53863.70it/s]\n"
     ]
    },
    {
     "name": "stdout",
     "output_type": "stream",
     "text": [
      "task year:  2023\n"
     ]
    },
    {
     "name": "stderr",
     "output_type": "stream",
     "text": [
      "536547it [00:09, 55109.37it/s]\n"
     ]
    }
   ],
   "source": [
    "import importlib\n",
    "import user_task_collection #import the module here, so that it can be reloaded.\n",
    "importlib.reload(user_task_collection)\n",
    "from user_task_collection import *\n",
    "\n",
    "data_path = 'data_files/task_space_data/'\n",
    "data_path_save = data_path + 'obj_tag_question_bipartite_core_space/'\n",
    "\n",
    "programming_language_std_adjusted = set(load_obj('programming_language_std_adjusted', data_path_save))\n",
    "\n",
    "level_list = [1]\n",
    "year_list = [yr for yr in range(2008,2024)]\n",
    "\n",
    "for level in level_list:\n",
    "    print(\"level  \", level)\n",
    "    tag_bool_core = load_obj(f\"core_bool_with_cut_level{level}\", data_path_save + 'networks/probability/')\n",
    "    G_tag_core = load_obj(f\"G_tag_core_with_cut_level{level}\", data_path_save + 'networks/probability/')\n",
    "\n",
    "    #* user的各种task数量, 'user_task_count_by_year_level_{level}_{yr}'\n",
    "    print('get_user_task_dict')\n",
    "    get_user_task_dict_by_language(data_path, data_path_save, G_tag_core, tag_bool_core, year_list, level, programming_language_std_adjusted, 'python')"
   ]
  },
  {
   "cell_type": "markdown",
   "metadata": {},
   "source": [
    "# user starting year in SO"
   ]
  },
  {
   "cell_type": "code",
   "execution_count": null,
   "metadata": {},
   "outputs": [],
   "source": [
    "import importlib\n",
    "import user_task_collection #import the module here, so that it can be reloaded.\n",
    "importlib.reload(user_task_collection)\n",
    "from user_task_collection import *\n",
    "\n",
    "data_path = 'data_files/task_space_data/'\n",
    "data_path_save = data_path + 'obj_tag_question_bipartite_core_space/'\n",
    "\n",
    "level_list = [1]\n",
    "year_list = [yr for yr in range(2009,2023)]\n",
    "year_list.reverse()\n",
    "for level in level_list:\n",
    "\n",
    "    get_user_starting_year(data_path_save, year_list)\n",
    "\n",
    "    get_user_starting_year_by_language(data_path_save,year_list, 'python')"
   ]
  },
  {
   "cell_type": "markdown",
   "metadata": {},
   "source": [
    "# build dataframe with sample_percent entry-exit"
   ]
  },
  {
   "cell_type": "code",
   "execution_count": null,
   "metadata": {},
   "outputs": [
    {
     "data": {
      "text/plain": [
       "[4, 2, 3, 1, 5]"
      ]
     },
     "execution_count": 2,
     "metadata": {},
     "output_type": "execute_result"
    }
   ],
   "source": [
    "import importlib\n",
    "import user_task_collection #import the module here, so that it can be reloaded.\n",
    "importlib.reload(user_task_collection)\n",
    "from user_task_collection import *\n",
    "random.seed(1730)\n",
    "\n",
    "data_path = 'data_files/task_space_data/'\n",
    "data_path_save = data_path + 'obj_tag_question_bipartite_core_space/'\n",
    "\n",
    "level = 1\n",
    "\n",
    "community_list_core_std = load_obj(f\"community_list_std_core_cut_level{level}\", data_path_save + 'networks/probability/')\n",
    "\n",
    "year_period = 1\n",
    "#density_user_label = 'half_user'\n",
    "density_user_label = 'all_threshold_user'\n",
    "\n",
    "#sample_user_label = 'half_user'\n",
    "sample_user_label = 'all_threshold_user'\n",
    "#sample_user_label = 'all_answer_user'\n",
    "\n",
    "so_yearlist_salary = [2018, 2019, 2020, 2021, 2022, 2023]\n",
    "sv_yearlist_salary = [2023]\n",
    "topn = 300\n",
    "period_label = 'hn_job_task_salary_only_us_log'\n",
    "\n",
    "task_salary_name = [f'{so_yearlist_salary}_{sv_yearlist_salary}_task_salary_topn_{topn}_level_{level}', data_path_save + f'surveys/country/{period_label}/']\n",
    "\n",
    "#sample_percent_label = 1\n",
    "sample_percent_label = 10\n",
    "\n",
    "# year_bool = {str(yr):False for yr in range(2008, 2024)}\n",
    "# for yr in range(2008,2024):\n",
    "#     year_bool[str(yr)] = True\n",
    "\n",
    "print('================================= user sample =================================')\n",
    "# user_pool_bool = load_obj(f'{sample_user_label}_bool', data_path_save + f'vote_regression_together/')\n",
    "# user_list = list(set([u for u, ub in user_pool_bool.items() if ub]))\n",
    "# user_sample = random.sample(user_list, int(len(user_list) * sample_percent_label/100))\n",
    "# selected_user_bool = defaultdict(bool)\n",
    "# for u in user_sample:\n",
    "#     selected_user_bool[u] = True\n",
    "\n",
    "selected_user_bool = load_obj('user_selection_bool_10percent', data_path_save + 'vote_regression_together/user_task_collection/df_sample/')\n",
    "\n",
    "\n",
    "for yr1 in range(2009, 2023 - year_period):\n",
    "    print('================================= build dataframe all language =================================')\n",
    "    yr_list1 = [yr1]\n",
    "    print(yr_list1)\n",
    "    yr2 = yr1 + year_period\n",
    "    yr_list2 = [yr2]\n",
    "    build_user_task_entry_exit_salary_dataframe_with_sample_all_language(data_path_save, community_list_core_std, yr_list1, yr1, yr_list2, yr2, level, selected_user_bool, density_user_label, sample_user_label, sample_percent_label)\n",
    "\n",
    "dataframe_names = [data_path_save + 'vote_regression_together/user_task_collection/df_sample/' + f'df_user_task_entry_exit_salary_task_with_density_from_{yr1}_to_{yr1 + 1}_level_{level}_{sample_percent_label}_percent_all_language.csv' for yr1 in range(2009, 2023 - year_period)]\n",
    "\n",
    "save_name = data_path_save + 'vote_regression_together/user_task_collection/df_sample/' + f'df_user_task_entry_exit_salary_task_with_density_level_{level}_{sample_percent_label}_percent_all_language.csv'\n",
    "\n",
    "df_all = pd.concat([pd.read_csv(dfn) for dfn in dataframe_names])\n",
    "df_all.to_csv(save_name)\n",
    "\n",
    "\n",
    "for yr1 in range(2009, 2023 - year_period):\n",
    "    print('================================= build dataframe python =================================')\n",
    "    yr_list1 = [yr1]\n",
    "    print(yr_list1)\n",
    "    yr2 = yr1 + year_period\n",
    "    yr_list2 = [yr2]\n",
    "    build_user_task_entry_exit_salary_dataframe_with_sample_python(data_path_save, community_list_core_std, yr_list1, yr1, yr_list2, yr2, level, selected_user_bool, density_user_label, sample_user_label, sample_percent_label)\n",
    "\n",
    "\n",
    "dataframe_names = [data_path_save + 'vote_regression_together/user_task_collection/df_sample/' + f'df_user_task_entry_exit_salary_task_with_density_from_{yr1}_to_{yr1 + 1}_level_{level}_{sample_percent_label}_percent_python.csv' for yr1 in range(2009, 2023 - year_period)]\n",
    "\n",
    "save_name = data_path_save + 'vote_regression_together/user_task_collection/df_sample/' + f'df_user_task_entry_exit_salary_task_with_density_level_{level}_{sample_percent_label}_percent_python.csv'\n",
    "\n",
    "df_all = pd.concat([pd.read_csv(dfn) for dfn in dataframe_names])\n",
    "df_all.to_csv(save_name)\n"
   ]
  },
  {
   "cell_type": "code",
   "execution_count": null,
   "metadata": {},
   "outputs": [],
   "source": []
  }
 ],
 "metadata": {
  "kernelspec": {
   "display_name": "stack_overflow",
   "language": "python",
   "name": "python3"
  },
  "language_info": {
   "codemirror_mode": {
    "name": "ipython",
    "version": 3
   },
   "file_extension": ".py",
   "mimetype": "text/x-python",
   "name": "python",
   "nbconvert_exporter": "python",
   "pygments_lexer": "ipython3",
   "version": "3.9.18"
  }
 },
 "nbformat": 4,
 "nbformat_minor": 2
}
