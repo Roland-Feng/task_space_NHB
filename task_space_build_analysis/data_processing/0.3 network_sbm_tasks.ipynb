{
 "cells": [
  {
   "cell_type": "markdown",
   "metadata": {},
   "source": [
    "# build tag_question_bipartite csv"
   ]
  },
  {
   "cell_type": "code",
   "execution_count": null,
   "metadata": {},
   "outputs": [],
   "source": [
    "import importlib\n",
    "import tag_network_posterior #import the module here, so that it can be reloaded.\n",
    "importlib.reload(tag_network_posterior)\n",
    "from tag_network_posterior import *\n",
    "\n",
    "data_path = 'data_files/task_space_data/'\n",
    "data_path_save = data_path + 'obj_tag_question_bipartite_core_space/'\n",
    "\n",
    "tag_bool = load_obj('tag_bool_threshold_adjusted', data_path_save)\n",
    "\n",
    "\n",
    "##! build community colocation matrix\n",
    "year_bool = {str(yr):False for yr in range(2008, 2024)}\n",
    "for yr in range(2008,2024):\n",
    "    year_bool[str(yr)] = True\n",
    "\n",
    "print('================================= tag pair =================================')\n",
    "csv_file_path = build_tag_question_bipartite(year_bool, data_path, data_path_save, 'question', tag_bool)"
   ]
  },
  {
   "cell_type": "markdown",
   "metadata": {},
   "source": [
    "# build tag network - pmi"
   ]
  },
  {
   "cell_type": "code",
   "execution_count": null,
   "metadata": {},
   "outputs": [
    {
     "name": "stdout",
     "output_type": "stream",
     "text": [
      "================================= tag pair =================================\n"
     ]
    },
    {
     "name": "stderr",
     "output_type": "stream",
     "text": [
      "100%|██████████| 16/16 [01:33<00:00,  5.85s/it]\n"
     ]
    },
    {
     "name": "stdout",
     "output_type": "stream",
     "text": [
      "================================= build network and community =================================\n",
      "graph size:  5083 260998\n",
      "major component size:  5083 260998\n"
     ]
    }
   ],
   "source": [
    "import importlib\n",
    "import tag_network_posterior #import the module here, so that it can be reloaded.\n",
    "importlib.reload(tag_network_posterior)\n",
    "from tag_network_posterior import *\n",
    "\n",
    "data_path = 'data_files/task_space_data/'\n",
    "data_path_save = data_path + 'obj_tag_question_bipartite_core_space/'\n",
    "\n",
    "tag_bool = load_obj('tag_bool_threshold_adjusted', data_path_save)\n",
    "\n",
    "##! build community colocation matrix\n",
    "year_bool = {str(yr):False for yr in range(2008, 2024)}\n",
    "for yr in range(2008,2024):\n",
    "    year_bool[str(yr)] = True\n",
    "\n",
    "print('================================= tag pair =================================')\n",
    "tag_pair_index_count_posterior, _, index_tag_dict_posterior = get_tag_pair(year_bool, data_path, 'question', tag_bool)\n",
    "\n",
    "print('================================= build network and community =================================')\n",
    "G_tag_posterior, Q_posterior = build_network_from_tag_pair_posterior(tag_pair_index_count_posterior, index_tag_dict_posterior)\n",
    "tag_bool_G = update_tag_bool(tag_bool,G_tag_posterior)\n",
    "\n",
    "\n",
    "save_obj(G_tag_posterior, \"G_tag_posterior\", data_path_save + 'networks/')\n",
    "save_obj(tag_bool_G, \"tag_bool_adjusted_network\", data_path_save + 'networks/')\n",
    "\n"
   ]
  },
  {
   "cell_type": "markdown",
   "metadata": {},
   "source": [
    "# SBM results"
   ]
  },
  {
   "cell_type": "code",
   "execution_count": null,
   "metadata": {},
   "outputs": [],
   "source": [
    "import json\n",
    "import random\n",
    "from tqdm import tqdm\n",
    "from pickle_file import load_obj, save_obj\n",
    "import pandas as pd\n",
    "import numpy as np\n",
    "from collections import defaultdict\n",
    "\n",
    "import importlib\n",
    "import tag_network_posterior #import the module here, so that it can be reloaded.\n",
    "importlib.reload(tag_network_posterior)\n",
    "from tag_network_posterior import *\n",
    "\n",
    "data_path = 'data_files/task_space_data/'\n",
    "data_path_save = data_path + 'obj_tag_question_bipartite_core_space/'\n",
    "\n",
    "##! run gt_tag_question_bipartite.py\n",
    "##! run gt_get_block_dataframe.py\n",
    "\n",
    "label = 'question_tag_bipartite'\n",
    "df_unweight = load_obj(f'{label}_df_nested_sbm_block_unweighted', data_path_save + 'communities/')\n",
    "levels_unweight = load_obj(f'{label}_levels_nested_sbm_block_unweighted', data_path_save + 'communities/')\n",
    "community_unweighted_level0 = get_community_at_level(df_unweight, \"level_0\")\n",
    "community_unweighted_level1 = get_community_at_level(df_unweight, \"level_1\")\n",
    "community_unweighted_level2 = get_community_at_level(df_unweight, \"level_2\")\n",
    "community_unweighted_level3 = get_community_at_level(df_unweight, \"level_3\")"
   ]
  },
  {
   "cell_type": "code",
   "execution_count": 6,
   "metadata": {},
   "outputs": [],
   "source": [
    "G_tag_posterior = load_obj(\"G_tag_posterior\", data_path_save + 'networks/')\n",
    "G_tag_posterior = color_network_clusters(G_tag_posterior, community_unweighted_level0)\n",
    "save_obj(G_tag_posterior, f\"G_tag_posterior_level0\", data_path_save + 'networks/')\n",
    "community_list_std = [i for i,c in community_unweighted_level0.items()]\n",
    "save_obj(community_list_std, 'community_list_std_level_0', data_path_save + 'networks/')\n",
    "save_obj(community_unweighted_level0, 'community_unweighted_level0', data_path_save + 'networks/')\n",
    "\n",
    "G_tag_posterior = load_obj(\"G_tag_posterior\", data_path_save + 'networks/')\n",
    "G_tag_posterior = color_network_clusters(G_tag_posterior, community_unweighted_level1)\n",
    "save_obj(G_tag_posterior, f\"G_tag_posterior_level1\", data_path_save + 'networks/')\n",
    "community_list_std = [i for i,c in community_unweighted_level1.items()]\n",
    "save_obj(community_list_std, 'community_list_std_level_1', data_path_save + 'networks/')\n",
    "save_obj(community_unweighted_level1, 'community_unweighted_level1', data_path_save + 'networks/')\n",
    "\n",
    "G_tag_posterior = load_obj(\"G_tag_posterior\", data_path_save + 'networks/')\n",
    "G_tag_posterior = color_network_clusters(G_tag_posterior, community_unweighted_level2)\n",
    "save_obj(G_tag_posterior, f\"G_tag_posterior_level2\", data_path_save + 'networks/')\n",
    "community_list_std = [i for i,c in community_unweighted_level2.items()]\n",
    "save_obj(community_list_std, 'community_list_std_level_2', data_path_save + 'networks/')\n",
    "save_obj(community_unweighted_level2, 'community_unweighted_level2', data_path_save + 'networks/')\n",
    "\n",
    "G_tag_posterior = load_obj(\"G_tag_posterior\", data_path_save + 'networks/')\n",
    "G_tag_posterior = color_network_clusters(G_tag_posterior, community_unweighted_level3)\n",
    "save_obj(G_tag_posterior, f\"G_tag_posterior_level3\", data_path_save + 'networks/')\n",
    "community_list_std = [i for i,c in community_unweighted_level3.items()]\n",
    "save_obj(community_list_std, 'community_list_std_level_3', data_path_save + 'networks/')\n",
    "save_obj(community_unweighted_level3, 'community_unweighted_level3', data_path_save + 'networks/')"
   ]
  },
  {
   "cell_type": "markdown",
   "metadata": {},
   "source": [
    "# build tag - network cooccurrence"
   ]
  },
  {
   "cell_type": "code",
   "execution_count": null,
   "metadata": {},
   "outputs": [],
   "source": [
    "import importlib\n",
    "import tag_network_posterior #import the module here, so that it can be reloaded.\n",
    "importlib.reload(tag_network_posterior)\n",
    "from tag_network_posterior import *\n",
    "\n",
    "data_path = 'data_files/task_space_data/'\n",
    "data_path_save = data_path + 'obj_tag_question_bipartite_core_space/'\n",
    "\n",
    "tag_bool = load_obj('tag_bool_threshold_adjusted', data_path_save)\n",
    "\n",
    "##! build community colocation matrix\n",
    "year_bool = {str(yr):False for yr in range(2008, 2024)}\n",
    "for yr in range(2008,2024):\n",
    "    year_bool[str(yr)] = True\n",
    "\n",
    "print('================================= tag pair =================================')\n",
    "tag_pair_index_count_posterior, _, index_tag_dict_posterior = get_tag_pair(year_bool, data_path, 'question', tag_bool)\n",
    "\n",
    "print('================================= build network and community =================================')\n",
    "G_tag_posterior = build_network_from_tag_cooccurrence(tag_pair_index_count_posterior, index_tag_dict_posterior)\n",
    "tag_bool_G = update_tag_bool(tag_bool,G_tag_posterior)\n",
    "\n",
    "save_obj(G_tag_posterior, \"G_tag_cooccurrence\", data_path_save + 'networks/probability/')\n",
    "save_obj(tag_bool_G, \"tag_bool_adjusted_network_cooccurrence\", data_path_save + 'networks/probability/')\n",
    "\n",
    "\n",
    "label = 'question_tag_bipartite'\n",
    "df_unweight = load_obj(f'{label}_df_nested_sbm_block_unweighted', data_path_save + 'communities/')\n",
    "levels_unweight = load_obj(f'{label}_levels_nested_sbm_block_unweighted', data_path_save + 'communities/')\n",
    "for i in range(4):\n",
    "    community_unweighted_level = get_community_at_level(df_unweight, f\"level_{i}\")\n",
    "    G_tag_posterior = load_obj(\"G_tag_cooccurrence\", data_path_save + 'networks/probability/')\n",
    "    G_tag_posterior = color_network_clusters(G_tag_posterior, community_unweighted_level)\n",
    "    save_obj(G_tag_posterior, f\"G_tag_cooccurrence_level{i}\", data_path_save + 'networks/probability/')"
   ]
  },
  {
   "cell_type": "code",
   "execution_count": null,
   "metadata": {},
   "outputs": [],
   "source": []
  },
  {
   "cell_type": "code",
   "execution_count": null,
   "metadata": {},
   "outputs": [],
   "source": []
  },
  {
   "cell_type": "code",
   "execution_count": null,
   "metadata": {},
   "outputs": [],
   "source": []
  },
  {
   "cell_type": "markdown",
   "metadata": {},
   "source": [
    "# RCA core"
   ]
  },
  {
   "cell_type": "code",
   "execution_count": null,
   "metadata": {},
   "outputs": [
    {
     "name": "stdout",
     "output_type": "stream",
     "text": [
      "1\n",
      "1 []\n",
      "6 []\n",
      "17 []\n",
      "74 []\n",
      "75 []\n",
      "78 []\n",
      "103 []\n",
      "157 []\n",
      "164 []\n",
      "168 []\n",
      "2\n",
      "3\n"
     ]
    }
   ],
   "source": [
    "import importlib\n",
    "import tag_network_posterior #import the module here, so that it can be reloaded.\n",
    "importlib.reload(tag_network_posterior)\n",
    "from tag_network_posterior import *\n",
    "\n",
    "data_path = 'data_files/task_space_data/'\n",
    "data_path_save = data_path + 'obj_tag_question_bipartite_core_space/'\n",
    "\n",
    "for level in range(1,4):\n",
    "    print(level)\n",
    "    community_unweighted_level = load_obj(f'community_unweighted_level{level}', data_path_save + 'networks/')\n",
    "    G_tag_posterior = load_obj(f\"G_tag_cooccurrence_level{level}\", data_path_save + 'networks/probability/')\n",
    "    community_list_std = load_obj(f'community_list_std_level_{level}', data_path_save + 'networks/')\n",
    "\n",
    "    ##! calculate the RCA\n",
    "    rca_matrix, tag_list_std, rca_values = get_tag_community_rca(G_tag_posterior, community_list_std, community_unweighted_level)\n",
    "    community_tags, core_rca_sorted, empty_community = get_tags_rca_in_community(rca_values, community_unweighted_level, -1)\n",
    "\n",
    "    ##! core bool\n",
    "    cut_length = int(0.2 * len(core_rca_sorted))\n",
    "    core_bool_temp = defaultdict(bool)\n",
    "    core_bool = defaultdict(bool)\n",
    "    for tc in core_rca_sorted[cut_length:]:\n",
    "        core_bool_temp[tc[0][0]] = True\n",
    "    \n",
    "    ##! community core with cut\n",
    "    community_cores_with_cut = {c:[] for c in community_list_std}\n",
    "    for c, ts in community_tags.items():\n",
    "        community_cores_with_cut[c] = [t for t in ts if core_bool_temp[t]]\n",
    "        if len(community_cores_with_cut[c]) < 3:\n",
    "            community_cores_with_cut[c] = []\n",
    "\n",
    "        for t in community_cores_with_cut[c]:\n",
    "            core_bool[t] = True\n",
    "\n",
    "    ##! save dataframe\n",
    "    df_dict = {'community':community_list_std, 'tags':[community_unweighted_level[c] for c in community_list_std], 'core_tags':[community_cores_with_cut[c] for c in community_list_std]}\n",
    "    df = pd.DataFrame.from_dict(df_dict)\n",
    "    df.to_csv(data_path_save + f'networks/probability/core_rca_with_cut_level_{level}.csv')\n",
    "\n",
    "    ##! save files\n",
    "    save_obj(community_list_std, f\"community_list_std_core_cut_level{level}\", data_path_save + 'networks/probability/')\n",
    "    save_obj(community_cores_with_cut, f\"community_core_with_cut_level{level}\", data_path_save + 'networks/probability/')\n",
    "    G_tag_posterior = color_network_clusters(G_tag_posterior, community_unweighted_level)\n",
    "    G_tag_core_with_cut = G_tag_posterior.subgraph([t for ts in community_cores_with_cut.values() for t in ts])\n",
    "    save_obj(G_tag_core_with_cut, f\"G_tag_core_with_cut_level{level}\", data_path_save + 'networks/probability/')\n",
    "    save_obj(core_bool, f\"core_bool_with_cut_level{level}\", data_path_save + 'networks/probability/')\n",
    "\n",
    "    core_tags = [t for ts in community_cores_with_cut.values() for t in ts]\n",
    "    core_tags_df = pd.DataFrame.from_dict({'core_tags': core_tags})\n",
    "    core_tags_df.to_csv(data_path_save + f'networks/probability/core_tags_list_level_{level}.csv')\n",
    "\n",
    "\n",
    "    for c, ts in community_cores_with_cut.items():\n",
    "        if len(ts) == 0:\n",
    "            print(c,ts)"
   ]
  }
 ],
 "metadata": {
  "kernelspec": {
   "display_name": "stack_overflow",
   "language": "python",
   "name": "python3"
  },
  "language_info": {
   "codemirror_mode": {
    "name": "ipython",
    "version": 3
   },
   "file_extension": ".py",
   "mimetype": "text/x-python",
   "name": "python",
   "nbconvert_exporter": "python",
   "pygments_lexer": "ipython3",
   "version": "3.9.18"
  }
 },
 "nbformat": 4,
 "nbformat_minor": 2
}
