{
 "cells": [
  {
   "cell_type": "code",
   "execution_count": null,
   "metadata": {},
   "outputs": [
    {
     "name": "stdout",
     "output_type": "stream",
     "text": [
      "50998\n"
     ]
    }
   ],
   "source": [
    "import importlib\n",
    "import job_gpt_35 #import the module here, so that it can be reloaded.\n",
    "importlib.reload(job_gpt_35)\n",
    "from job_gpt_35 import *\n",
    "\n",
    "data_path = 'data_files/task_space_data/'\n",
    "data_path_save = data_path + 'obj_tag_question_bipartite_core_space/'\n",
    "\n",
    "data_label = 'HN_data_gpt35'\n",
    "\n",
    "i = 0\n",
    "job_ads = {}\n",
    "with jsonlines.open(f'{data_path}hnhiring_jobs.json', 'r') as fcc_file:\n",
    "    for line in fcc_file:\n",
    "        for jl in line:\n",
    "            job_ads[i] = jl\n",
    "            i += 1\n",
    "        \n",
    "print(len(job_ads))\n",
    "\n",
    "save_obj(job_ads,'job_ad_dict_from_HN', data_path_save + f'jobs/{data_label}/')"
   ]
  },
  {
   "cell_type": "markdown",
   "metadata": {},
   "source": [
    "# feed to gpt"
   ]
  },
  {
   "cell_type": "code",
   "execution_count": null,
   "metadata": {},
   "outputs": [],
   "source": [
    "from openai import OpenAI\n",
    "from tqdm import tqdm\n",
    "\n",
    "job_details_from_gpt35 = {}\n",
    "\n",
    "#client = OpenAI(api_key='sk-ALRS2Eg')\n",
    "\n",
    "period_length = 100\n",
    "\n",
    "job_len = int(len(line)/period_length) + 1\n",
    "for i in range(453, job_len):\n",
    "    print(i)\n",
    "    gpt_dict = {}\n",
    "    job_list = line[i*period_length: (i + 1) * period_length]\n",
    "    for j, job in tqdm(enumerate(job_list)):\n",
    "        \n",
    "        text = job['title'] + ' ' + job['details']\n",
    "    \n",
    "        response = client.chat.completions.create(\n",
    "            model=\"gpt-3.5-turbo-0125\",\n",
    "            response_format={ \"type\": \"json_object\" },\n",
    "            messages=[\n",
    "                {\"role\": \"system\", \"content\": \"You are a helpful assistant and expert in software industry designed to output JSON.\"},\n",
    "                {\"role\": \"user\", \"content\": f\"Here is a job ad:{text}. Could you extract in a json format the following information with required json key names:\\n1. company name, with key name 'company_name'.\\n2. bool of whether the ad is for more than one job, with key name 'multi_jobs'. 3. With key name 'jobs', build a list containing the information of each jobs: for each job, build a key-values pair with the job name as key name and value containing the following items: bool of whether this ad contain information of yearly salary values, with key name 'salary_index'; location, with key name 'location'; salary, with key name 'salary' and containing the following items: if the salary is a range, please give an average value with the key name 'salary_average', the minimum value with the key name 'salary_min', the maximum value with the key name 'salary_max'; if the salary is not a range, please give the value with the key name 'salary_average'; currency of salary, with key name 'currency'; bool of whether salary includes equity, with key name 'include_equity'; a list of skills required by the job, with key name 'skills'.\\n Please only use the content in the advertisement and do not use other outside information.\"}\n",
    "                ]\n",
    "        )\n",
    "        gpt_dict[str(j + i * period_length)] = response.choices[0].message.content\n",
    "\n",
    "    save_obj(gpt_dict, f'gpt_dict_{i}', data_path_save + 'gpt_advertisements/')\n",
    "\n",
    "\n"
   ]
  },
  {
   "cell_type": "code",
   "execution_count": null,
   "metadata": {},
   "outputs": [],
   "source": [
    "import importlib\n",
    "import job_gpt_35 #import the module here, so that it can be reloaded.\n",
    "importlib.reload(job_gpt_35)\n",
    "from job_gpt_35 import *\n",
    "\n",
    "data_path = 'data_files/task_space_data/'\n",
    "data_path_save = data_path + 'obj_tag_question_bipartite_core_space/'\n",
    "\n",
    "data_label = 'HN_data_gpt35'\n",
    "\n",
    "data_label = 'HN_data_gpt35'\n",
    "\n",
    "i = 0\n",
    "job_ads = {}\n",
    "with jsonlines.open(f'{data_path}hnhiring_jobs.json', 'r') as fcc_file:\n",
    "    for line in fcc_file:\n",
    "        i += 1\n",
    "\n",
    "\n",
    "period_length = 100\n",
    "job_len = int(len(line)/period_length) + 1    \n",
    "\n",
    "gpt_dict = {}\n",
    "for i in range(job_len):\n",
    "    gpt_dict_temp = load_obj(f'gpt_dict_{i}', data_path_save + 'gpt_advertisements/')\n",
    "    gpt_dict.update(gpt_dict_temp)\n",
    "\n",
    "\n",
    "\n",
    "save_obj(gpt_dict, 'gpt_dict_all', data_path_save + 'gpt_advertisements/')\n",
    "save_obj(gpt_dict, 'gpt_dict_all', data_path_save + f'jobs/{data_label}/')"
   ]
  },
  {
   "cell_type": "code",
   "execution_count": null,
   "metadata": {},
   "outputs": [],
   "source": []
  }
 ],
 "metadata": {
  "kernelspec": {
   "display_name": "stack_overflow",
   "language": "python",
   "name": "python3"
  },
  "language_info": {
   "codemirror_mode": {
    "name": "ipython",
    "version": 3
   },
   "file_extension": ".py",
   "mimetype": "text/x-python",
   "name": "python",
   "nbconvert_exporter": "python",
   "pygments_lexer": "ipython3",
   "version": "3.9.18"
  }
 },
 "nbformat": 4,
 "nbformat_minor": 2
}
