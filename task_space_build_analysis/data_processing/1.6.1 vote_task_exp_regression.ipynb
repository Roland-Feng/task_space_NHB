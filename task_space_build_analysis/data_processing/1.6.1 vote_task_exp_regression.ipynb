{
 "cells": [
  {
   "cell_type": "markdown",
   "metadata": {},
   "source": [
    "# answer vote rank confined on user"
   ]
  },
  {
   "cell_type": "code",
   "execution_count": null,
   "metadata": {},
   "outputs": [],
   "source": [
    "import importlib\n",
    "import answer_vote_task_IV #import the module here, so that it can be reloaded.\n",
    "importlib.reload(answer_vote_task_IV)\n",
    "from answer_vote_task_IV import *\n",
    "\n",
    "\n",
    "data_path = 'data_files/task_space_data/'\n",
    "data_path_save = data_path + 'obj_tag_question_bipartite_core_space/'\n",
    "\n",
    "\n",
    "\n",
    "experience_period_length = 2\n",
    "level = 1\n",
    "\n",
    "# sample_user_label = 'all_threshold_user'\n",
    "# get_answer_vote_rank_confine_user(data_path, data_path_save, sample_user_label)\n",
    "\n",
    "# sample_user_label = 'all_answer_user'\n",
    "# get_answer_vote_rank_confine_user(data_path, data_path_save, sample_user_label)\n",
    "\n",
    "get_answer_user_dict(data_path, data_path_save)"
   ]
  },
  {
   "cell_type": "markdown",
   "metadata": {},
   "source": [
    "# get task history IV dictionary"
   ]
  },
  {
   "cell_type": "code",
   "execution_count": null,
   "metadata": {},
   "outputs": [
    {
     "data": {
      "text/plain": [
       "False"
      ]
     },
     "execution_count": 2,
     "metadata": {},
     "output_type": "execute_result"
    }
   ],
   "source": [
    "import importlib\n",
    "import answer_vote_task_IV #import the module here, so that it can be reloaded.\n",
    "importlib.reload(answer_vote_task_IV)\n",
    "from answer_vote_task_IV import *\n",
    "\n",
    "\n",
    "data_path = 'data_files/task_space_data/'\n",
    "data_path_save = data_path + 'obj_tag_question_bipartite_core_space/'\n",
    "\n",
    "\n",
    "\n",
    "experience_period_length = 2\n",
    "level = 1\n",
    "\n",
    "#sample_user_label = 'half_user'\n",
    "sample_user_label = 'all_threshold_user'\n",
    "#sample_user_label = 'all_answer_user'\n",
    "\n",
    "regression_year_list = [i for i in range(2011, 2024)]\n",
    "# for yr in regression_year_list:\n",
    "#     get_yr_task_abs_minute_exp(data_path_save, level, experience_period_length, yr, sample_user_label)\n",
    "\n",
    "# tuple 的list\n",
    "#input_list = [(data_path_save, level, experience_period_length, yr, sample_user_label) for yr in regression_year_list]\n",
    "# from joblib import Parallel, delayed\n",
    "# Parallel(n_jobs=16)(delayed(get_yr_task_abs_minute_exp)(*ipt) for ipt in input_list)\n",
    "\n",
    "# for yr in regression_year_list:\n",
    "#     get_yr_history_abs_minute_exp(data_path_save, experience_period_length, yr, sample_user_label)\n",
    "\n",
    "input_list = [(data_path_save, experience_period_length, yr, sample_user_label) for yr in regression_year_list]\n",
    "from joblib import Parallel, delayed\n",
    "Parallel(n_jobs=16)(delayed(get_yr_history_abs_minute_exp)(*ipt) for ipt in input_list)\n"
   ]
  },
  {
   "cell_type": "markdown",
   "metadata": {},
   "source": [
    "# build vote json"
   ]
  },
  {
   "cell_type": "code",
   "execution_count": null,
   "metadata": {},
   "outputs": [],
   "source": [
    "import importlib\n",
    "import answer_vote_task_IV #import the module here, so that it can be reloaded.\n",
    "importlib.reload(answer_vote_task_IV)\n",
    "from answer_vote_task_IV import *\n",
    "\n",
    "\n",
    "data_path = 'data_files/task_space_data/'\n",
    "data_path_save = data_path + 'obj_tag_question_bipartite_core_space/'\n",
    "\n",
    "\n",
    "# sample_user_label = 'all_threshold_user'\n",
    "# get_answer_vote_rank_confine_user(data_path, data_path_save, sample_user_label)\n",
    "\n",
    "sample_user_label = 'all_answer_user'\n",
    "get_answer_vote_rank_confine_user(data_path, data_path_save, sample_user_label)\n",
    "\n",
    "experience_period_length = 2\n",
    "level = 1\n",
    "\n",
    "#sample_user_label = 'half_user'\n",
    "sample_user_label = 'all_threshold_user'\n",
    "#sample_user_label = 'all_answer_user'\n",
    "\n",
    "regression_year_list = [i for i in range(2011, 2024)]\n",
    "\n",
    "# tuple 的list\n",
    "input_list = [(data_path_save, experience_period_length, level, sample_user_label, yr) for yr in regression_year_list]\n",
    "\n",
    "from joblib import Parallel, delayed\n",
    "Parallel(n_jobs=8)(delayed(vote_task_regression_IV_json)(*ipt) for ipt in input_list)\n",
    "\n",
    "vote_task_exp_IV_build_dataframe(data_path_save, experience_period_length, level, sample_user_label, regression_year_list)"
   ]
  }
 ],
 "metadata": {
  "kernelspec": {
   "display_name": "stack_overflow",
   "language": "python",
   "name": "python3"
  },
  "language_info": {
   "codemirror_mode": {
    "name": "ipython",
    "version": 3
   },
   "file_extension": ".py",
   "mimetype": "text/x-python",
   "name": "python",
   "nbconvert_exporter": "python",
   "pygments_lexer": "ipython3",
   "version": "3.9.18"
  }
 },
 "nbformat": 4,
 "nbformat_minor": 2
}
