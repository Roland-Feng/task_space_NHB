{
 "cells": [
  {
   "cell_type": "code",
   "execution_count": null,
   "metadata": {},
   "outputs": [],
   "source": [
    "from pickle_file import load_obj, save_obj\n",
    "import pandas as pd\n",
    "from tqdm import tqdm\n",
    "from collections import defaultdict\n",
    "\n",
    "data_path = 'data_files/task_space_data/'\n",
    "data_path_save = data_path + 'obj_tag_question_bipartite_core_space/'\n",
    "\n",
    "df_user_location = pd.read_csv(data_path + 'user_date_loc_bing_fua.csv')\n",
    "\n",
    "user_efua_by_year = {str(yr):defaultdict(str) for yr in range(2008,2024)}\n",
    "user_country_by_year = {str(yr):defaultdict(str) for yr in range(2008,2024)}\n",
    "yr_count = defaultdict(int)\n",
    "\n",
    "for u_id, t, efua, country in tqdm(zip(df_user_location['user_id'], df_user_location['date_observed'], df_user_location['eFUA_name'], df_user_location['country'])):\n",
    "    if not pd.isna(t):\n",
    "        yr_count[t[:4]] += 1\n",
    "        \n",
    "    if not pd.isna(u_id) and not pd.isna(t) and not pd.isna(efua):\n",
    "        user_efua_by_year[t[:4]][str(u_id)] = efua\n",
    "        \n",
    "    if not pd.isna(u_id) and not pd.isna(t) and not pd.isna(country):\n",
    "        user_country_by_year[t[:4]][str(u_id)] = country.lower()\n",
    "\n",
    "for yr in range(2008,2024):\n",
    "    print(yr, len(user_efua_by_year[str(yr)]), len(user_country_by_year[str(yr)]), yr_count[str(yr)])\n",
    "    save_obj(user_efua_by_year[str(yr)], f'user_efua_{yr}', data_path_save + 'user_location/')\n",
    "    save_obj(user_country_by_year[str(yr)], f'user_country_{yr}', data_path_save + 'user_location/')"
   ]
  },
  {
   "cell_type": "code",
   "execution_count": null,
   "metadata": {},
   "outputs": [],
   "source": [
    "from pickle_file import load_obj, save_obj\n",
    "import pandas as pd\n",
    "from tqdm import tqdm\n",
    "from collections import defaultdict\n",
    "\n",
    "data_path = 'data_files/task_space_data/'\n",
    "data_path_save = data_path + 'obj_tag_question_bipartite_core_space/'\n",
    "\n",
    "year_period_list = [[i for i in range(2009,2016)],[i for i in range(2011,2016)],[i for i in range(2016,2021)],[i for i in range(2021,2024)]]\n",
    "\n",
    "\n",
    "for yr in range(2008,2024):\n",
    "    user_efua_by_year = load_obj(f'user_efua_{yr}', data_path_save + 'user_location/')\n",
    "    user_country_by_year = load_obj(f'user_country_{yr}', data_path_save + 'user_location/')\n",
    "        \n",
    "    efua_users_by_year = defaultdict(list)\n",
    "    for u, efua in user_efua_by_year.items():\n",
    "        efua_users_by_year[efua].append(u)\n",
    "\n",
    "    country_users_by_year = defaultdict(list)\n",
    "    for u, efua in user_country_by_year.items():\n",
    "        country_users_by_year[efua].append(u)\n",
    "\n",
    "    print(len(efua_users_by_year), len(country_users_by_year))\n",
    "\n",
    "    save_obj(efua_users_by_year, f'efua_users_{yr}',data_path_save + 'user_location/')\n",
    "    save_obj(country_users_by_year, f'country_users_{yr}',data_path_save + 'user_location/')"
   ]
  },
  {
   "cell_type": "code",
   "execution_count": null,
   "metadata": {},
   "outputs": [],
   "source": []
  },
  {
   "cell_type": "code",
   "execution_count": null,
   "metadata": {},
   "outputs": [],
   "source": []
  }
 ],
 "metadata": {
  "kernelspec": {
   "display_name": "stack_overflow",
   "language": "python",
   "name": "python3"
  },
  "language_info": {
   "codemirror_mode": {
    "name": "ipython",
    "version": 3
   },
   "file_extension": ".py",
   "mimetype": "text/x-python",
   "name": "python",
   "nbconvert_exporter": "python",
   "pygments_lexer": "ipython3",
   "version": "3.9.18"
  }
 },
 "nbformat": 4,
 "nbformat_minor": 2
}
