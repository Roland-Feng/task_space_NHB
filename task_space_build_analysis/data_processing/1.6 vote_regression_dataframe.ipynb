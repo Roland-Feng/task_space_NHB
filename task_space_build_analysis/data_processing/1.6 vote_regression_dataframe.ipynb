{
 "cells": [
  {
   "cell_type": "code",
   "execution_count": null,
   "metadata": {},
   "outputs": [],
   "source": [
    "import importlib\n",
    "import answer_vote_regression_did #import the module here, so that it can be reloaded.\n",
    "importlib.reload(answer_vote_regression_did)\n",
    "from answer_vote_regression_did import *\n",
    "\n",
    "data_path = 'data_files/task_space_data/'\n",
    "data_path_save = data_path + 'obj_tag_question_bipartite_core_space/'\n",
    "\n",
    "\n",
    "programming_language_std_adjusted = set(load_obj('programming_language_std_adjusted', data_path_save))\n",
    "\n",
    "level_list = [1]\n",
    "year_list = [yr for yr in range(2008,2024)]\n",
    "\n",
    "experience_period_length = 2\n",
    "\n",
    "for level in level_list:\n",
    "    tag_bool_core = load_obj(f\"core_bool_with_cut_level{level}\", data_path_save + 'networks/probability/')\n",
    "    G_tag_core = load_obj(f\"G_tag_core_with_cut_level{level}\", data_path_save + 'networks/probability/')\n",
    "    collect_answer_vote_coefficients(data_path, data_path_save, level, programming_language_std_adjusted, G_tag_core,tag_bool_core, experience_period_length, language_len = [1], task_len = [1,2,3,4,5,6,7])"
   ]
  },
  {
   "cell_type": "code",
   "execution_count": null,
   "metadata": {},
   "outputs": [],
   "source": [
    "import importlib\n",
    "import answer_vote_regression_did #import the module here, so that it can be reloaded.\n",
    "importlib.reload(answer_vote_regression_did)\n",
    "from answer_vote_regression_did import *\n",
    "\n",
    "\n",
    "data_path = 'data_files/task_space_data/'\n",
    "data_path_save = data_path + 'obj_tag_question_bipartite_core_space/'\n",
    "\n",
    "\n",
    "\n",
    "experience_period_length = 2\n",
    "level = 1\n",
    "\n",
    "#sample_user_label = 'half_user'\n",
    "sample_user_label = 'all_threshold_user'\n",
    "#sample_user_label = 'all_answer_user'\n",
    "\n",
    "regression_year_list = [i for i in range(2011, 2024)]\n",
    "df = vote_regression_build_dataframe(data_path_save, regression_year_list, experience_period_length, level, sample_user_label)\n",
    "df.to_csv(data_path_save + f'vote_regression_together/vote_regression_dataframe_{sample_user_label}_{regression_year_list[0]}_{regression_year_list[-1]}_period_{experience_period_length}_level_{level}.csv')\n",
    "del df\n",
    "\n",
    "\n"
   ]
  },
  {
   "cell_type": "code",
   "execution_count": null,
   "metadata": {},
   "outputs": [],
   "source": [
    "import importlib\n",
    "import answer_vote_regression_did_parallel #import the module here, so that it can be reloaded.\n",
    "importlib.reload(answer_vote_regression_did_parallel)\n",
    "from answer_vote_regression_did_parallel import *\n",
    "\n",
    "data_path = 'data_files/task_space_data/'\n",
    "data_path_save = data_path + 'obj_tag_question_bipartite_core_space/'\n",
    "\n",
    "\n",
    "experience_period_length = 2\n",
    "\n",
    "level = 1\n",
    "\n",
    "\n",
    "# tuple 的list\n",
    "input_list = [yr for yr in range(2008 + experience_period_length + 1, 2024)]\n",
    "\n",
    "from joblib import Parallel, delayed\n",
    "Parallel(n_jobs=16)(delayed(collect_answer_task_minute_experience_build_dataframe_parallel)(yr) for yr in input_list)\n",
    "\n",
    "\n"
   ]
  },
  {
   "cell_type": "code",
   "execution_count": null,
   "metadata": {},
   "outputs": [],
   "source": []
  }
 ],
 "metadata": {
  "kernelspec": {
   "display_name": "stack_overflow",
   "language": "python",
   "name": "python3"
  },
  "language_info": {
   "codemirror_mode": {
    "name": "ipython",
    "version": 3
   },
   "file_extension": ".py",
   "mimetype": "text/x-python",
   "name": "python",
   "nbconvert_exporter": "python",
   "pygments_lexer": "ipython3",
   "version": "3.9.18"
  }
 },
 "nbformat": 4,
 "nbformat_minor": 2
}
