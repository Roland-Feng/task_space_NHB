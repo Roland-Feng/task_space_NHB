{
 "cells": [
  {
   "cell_type": "markdown",
   "metadata": {},
   "source": [
    "0 'PostTypeId',\n",
    "1 'AcceptedAnswerId',\n",
    "2 'CreationDate',\n",
    "3 'Score',\n",
    "4 'ViewCount',\n",
    "5 'OwnerUserId',\n",
    "6 'LastActivityDate',\n",
    "7 'Tags',\n",
    "8 'CommentCount',\n",
    "9 'AnswerCount',\n",
    "10 'ParentId']"
   ]
  },
  {
   "cell_type": "markdown",
   "metadata": {},
   "source": [
    "# tag synonyms"
   ]
  },
  {
   "cell_type": "code",
   "execution_count": 1,
   "metadata": {},
   "outputs": [],
   "source": [
    "from pickle_file import save_obj, load_obj\n",
    "data_path = 'data_files/task_space_data/'\n",
    "data_path_save = data_path + 'obj_tag_question_bipartite_core_space/'\n",
    "import pandas as pd\n",
    "\n",
    "tag_synonyms_dict = {}\n",
    "df = pd.read_csv(data_path + 'tag_synonyms.csv')\n",
    "df_dict = pd.Series(df.TargetTagName.values,index=df.SourceTagName).to_dict()\n",
    "tag_synonyms_dict = {k.lower().replace('-','_'):v.lower().replace('-','_') for k,v in df_dict.items() if not pd.isna(v) and v[:10] != 'do-not-use'}\n",
    "tag_synonyms_dict['nulls'] = 'null'\n",
    "tag_synonyms_dict['nullvalue'] = 'null'\n",
    "tag_synonyms_dict['nil'] = 'null'\n",
    "\n",
    "problem_tags_temp = [str(k).lower().replace('-','_') for k,v in df_dict.items() if pd.isna(v) or v[:10] == 'do-not-use']\n",
    "problem_tags = ['state_managment', 'stars']"
   ]
  },
  {
   "cell_type": "markdown",
   "metadata": {},
   "source": []
  },
  {
   "cell_type": "code",
   "execution_count": 3,
   "metadata": {},
   "outputs": [],
   "source": [
    "save_obj(tag_synonyms_dict, 'tag_synonyms_dict', data_path)"
   ]
  },
  {
   "cell_type": "markdown",
   "metadata": {},
   "source": [
    "# all tags"
   ]
  },
  {
   "cell_type": "code",
   "execution_count": null,
   "metadata": {},
   "outputs": [],
   "source": [
    "import json\n",
    "import random\n",
    "from tqdm import tqdm\n",
    "from pickle_file import load_obj, save_obj\n",
    "import pandas as pd\n",
    "\n",
    "data_path = 'data_files/task_space_data/'\n",
    "data_path_save = data_path + 'obj_tag_question_bipartite_core_space/'\n",
    "\n",
    "tags_with_sort_1 = pd.read_csv(data_path + \"tags_larger_than_11.csv\")\n",
    "tags_with_sort_2 = pd.read_csv(data_path + \"tags_less_than_11.csv\")\n",
    "tags_all = pd.concat([tags_with_sort_1, tags_with_sort_2])\n",
    "taglist_all_temp = [str(t).lower().replace('-','_') for t in tags_all['TagName'].values.tolist()]\n",
    "\n",
    "tag_synonyms_dict = load_obj('tag_synonyms_dict', data_path_save)\n",
    "\n",
    "#! 保存 tag 的rename_dict\n",
    "\n",
    "tag_rename_dict = {k:v for k,v in tag_synonyms_dict.items()}\n",
    "\n",
    "save_obj(tag_rename_dict,'tag_rename_dict',data_path)\n",
    "\n",
    "#! tag_set\n",
    "tag_need_rename = set(taglist_all_temp).intersection(set(tag_rename_dict.keys()))\n",
    "tag_need_no_rename = set(taglist_all_temp) - tag_need_rename\n",
    "\n",
    "tagset_all = tag_need_no_rename | set([tag_rename_dict[t] for t in tag_need_rename]) - set(problem_tags)\n",
    "\n",
    "save_obj(tagset_all, 'tagset_all', data_path)"
   ]
  },
  {
   "cell_type": "code",
   "execution_count": null,
   "metadata": {},
   "outputs": [],
   "source": []
  }
 ],
 "metadata": {
  "kernelspec": {
   "display_name": "stack_overflow",
   "language": "python",
   "name": "python3"
  },
  "language_info": {
   "codemirror_mode": {
    "name": "ipython",
    "version": 3
   },
   "file_extension": ".py",
   "mimetype": "text/x-python",
   "name": "python",
   "nbconvert_exporter": "python",
   "pygments_lexer": "ipython3",
   "version": "3.9.18"
  }
 },
 "nbformat": 4,
 "nbformat_minor": 2
}
