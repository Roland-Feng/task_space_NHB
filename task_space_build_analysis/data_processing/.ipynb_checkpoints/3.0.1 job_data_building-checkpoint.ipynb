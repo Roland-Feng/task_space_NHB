{
 "cells": [
  {
   "cell_type": "markdown",
   "metadata": {},
   "source": [
    "# load and check data"
   ]
  },
  {
   "cell_type": "code",
   "execution_count": null,
   "metadata": {},
   "outputs": [
    {
     "name": "stderr",
     "output_type": "stream",
     "text": [
      "50998it [00:02, 21776.39it/s]\n"
     ]
    }
   ],
   "source": [
    "import importlib\n",
    "import job_gpt_35 #import the module here, so that it can be reloaded.\n",
    "importlib.reload(job_gpt_35)\n",
    "from job_gpt_35 import *\n",
    "\n",
    "data_path = 'data_files/task_space_data/'\n",
    "data_path_save = data_path + 'obj_tag_question_bipartite_core_space/'\n",
    "\n",
    "data_label = 'HN_data_gpt35'\n",
    "\n",
    "i = 0\n",
    "with jsonlines.open(f'{data_path}hnhiring_jobs.json', 'r') as fcc_file:\n",
    "    for job_sample in fcc_file:\n",
    "        i += 1\n",
    "\n",
    "gpt_dict = load_obj('gpt_dict_all', data_path_save + f'jobs/{data_label}/')\n",
    "gpt_problem_list = [4900, 4960, 8349, 9783,14684,  16937, 19290, 21157, 23362, 31413, 35526, 37232, 41943, 42810, 43331, 43355, 45493, 45973, 49222]\n",
    "\n",
    "salary_dataset = {}\n",
    "skill_dataset = {}\n",
    "job_salary_skill_dataset = {}\n",
    "for ji, js in tqdm(enumerate(job_sample)):\n",
    "    if ji not in gpt_problem_list:\n",
    "        salary_dataset[str(ji)] = detect_salary_str(json.loads(gpt_dict[str(ji)]), js)\n",
    "        skill_dataset[str(ji)] = detect_skill_str(json.loads(gpt_dict[str(ji)]))\n",
    "        if salary_dataset[str(ji)]['job_names'] != skill_dataset[str(ji)]['job_names']:\n",
    "            print(ji)\n",
    "\n",
    "        for pid, p in enumerate(salary_dataset[str(ji)]['job_names']):\n",
    "            job_name = str(ji) + '_' + str(pid) + '_' + p\n",
    "            job_salary_skill_dataset[job_name] = {}\n",
    "            job_salary_skill_dataset[job_name]['salary_bool'] = salary_dataset[str(ji)]['salary_bools'][pid]\n",
    "            job_salary_skill_dataset[job_name]['salary_value'] = salary_dataset[str(ji)]['salary_values'][pid]\n",
    "            job_salary_skill_dataset[job_name]['salary_currency'] = salary_dataset[str(ji)]['salary_currency'][pid]\n",
    "            if len(skill_dataset[str(ji)]['skill_lists'][pid]) > 0:\n",
    "                job_salary_skill_dataset[job_name]['skill_bool'] = True\n",
    "            else:\n",
    "                job_salary_skill_dataset[job_name]['skill_bool'] = False\n",
    "\n",
    "            job_salary_skill_dataset[job_name]['skill_list'] = skill_dataset[str(ji)]['skill_lists'][pid]\n",
    "            job_salary_skill_dataset[job_name]['year'] = js['date'][:4]\n",
    "            \n",
    "\n",
    "temp = job_salary_skill_dataset['25156_0_Database Developer']['skill_list'][0]\n",
    "job_salary_skill_dataset['25156_0_Database Developer']['skill_list'] = [j for j in temp.keys()]\n",
    "\n",
    "temp = job_salary_skill_dataset['42247_0_Full time, INTERNS/co-ops']['skill_list']\n",
    "job_salary_skill_dataset['42247_0_Full time, INTERNS/co-ops']['skill_list'] = [j for j in temp[:-1]]\n",
    "job_salary_skill_dataset['42247_0_Full time, INTERNS/co-ops']['skill_list'].append(temp[-1][0])\n",
    "\n",
    "temp = job_salary_skill_dataset['37390_0_DevOps engineer']['skill_list']\n",
    "job_salary_skill_dataset['37390_0_DevOps engineer']['skill_list'] = [list(j.values())[0] for j in temp]\n",
    "\n",
    "save_obj(job_salary_skill_dataset, 'job_salary_skill_dataset', data_path_save + f'jobs/{data_label}/')"
   ]
  },
  {
   "cell_type": "markdown",
   "metadata": {},
   "source": [
    "# save skill"
   ]
  },
  {
   "cell_type": "code",
   "execution_count": 3,
   "metadata": {},
   "outputs": [],
   "source": [
    "job_skill_dataset = {}\n",
    "for j, jd in job_salary_skill_dataset.items():\n",
    "    if jd['skill_bool'] and len(jd['skill_list']) >= 1:\n",
    "        job_skill_dataset[j] = jd['skill_list']\n",
    "\n",
    "save_obj(job_skill_dataset, f'job_skill_dataset', data_path_save + f'jobs/{data_label}/')\n"
   ]
  },
  {
   "cell_type": "markdown",
   "metadata": {},
   "source": [
    "# save salary"
   ]
  },
  {
   "cell_type": "code",
   "execution_count": 2,
   "metadata": {},
   "outputs": [],
   "source": [
    "df_currency = ['usd', '$', 'gbp', '£', 'eur', '€', 'chf', 'cad', 'c$', 'euro', 'euros']\n",
    "df_currency_short = ['USD', 'USD', 'GBP', 'GBP', 'EUR', 'EUR', 'CHF', 'CAD', 'CAD', 'EUR', 'EUR']\n",
    "currency_dict = dict(zip(df_currency, df_currency_short))\n",
    "for currency in [ 'GBP', 'CHF', 'CAD', 'EUR']:\n",
    "    crcsv = pd.read_csv( data_path_save + 'jobs/' + f'USD_{currency}_history.csv')\n",
    "    yr_currency = defaultdict(float)\n",
    "    yr_count = defaultdict(int)\n",
    "    for i in range(len(crcsv)):\n",
    "        yr = crcsv.iloc[i]['日期'][:4]\n",
    "        yr_currency[yr] += float(crcsv.iloc[i]['收盘'])\n",
    "        yr_count[yr] += 1\n",
    "\n",
    "    for yr in yr_count.keys():\n",
    "        yr_currency[yr] = yr_currency[yr]/yr_count[yr]\n",
    "\n",
    "    save_obj(yr_currency, f'{currency}_USD_rate_by_year', data_path_save + f'jobs/{data_label}/')\n",
    "\n",
    "save_obj({str(yr):1 for yr in range(2018,2025)}, f'USD_USD_rate_by_year', data_path_save + f'jobs/{data_label}/')\n",
    "\n",
    "\n",
    "df_currency = ['usd', '$', 'gbp', '£', 'eur', '€', 'chf', 'cad', 'c$', 'euro', 'euros']\n",
    "df_currency_short = ['USD', 'USD', 'GBP', 'GBP', 'EUR', 'EUR', 'CHF', 'CAD', 'CAD', 'EUR', 'EUR']\n",
    "currency_dict = dict(zip(df_currency, df_currency_short))\n",
    "\n",
    "gbp_yr_currency = load_obj(f'GBP_USD_rate_by_year', data_path_save + f'jobs/{data_label}/')\n",
    "eur_yr_currency = load_obj(f'EUR_USD_rate_by_year', data_path_save + f'jobs/{data_label}/')\n",
    "chf_yr_currency = load_obj(f'CHF_USD_rate_by_year', data_path_save + f'jobs/{data_label}/')\n",
    "cad_yr_currency = load_obj(f'CAD_USD_rate_by_year', data_path_save + f'jobs/{data_label}/')\n",
    "usd_yr_currency = load_obj(f'USD_USD_rate_by_year', data_path_save + f'jobs/{data_label}/')\n",
    "currency_rate_all = {'USD':usd_yr_currency, 'GBP':gbp_yr_currency, 'CHF':chf_yr_currency, 'CAD':cad_yr_currency, 'EUR':eur_yr_currency}\n",
    "\n",
    "currency_dict = dict(zip(df_currency, df_currency_short))\n",
    "\n",
    "job_salary_regression_dict = {}\n",
    "job_skill_regression_dict = {}\n",
    "job_year_regression_dict = {}\n",
    "for j, jd in job_salary_skill_dataset.items():\n",
    "    if jd['skill_bool'] and jd['salary_bool'] and len(jd['skill_list']) >= 1:\n",
    "        if jd['salary_currency'] in currency_dict:\n",
    "            cr = currency_rate_all[currency_dict[jd['salary_currency']]][jd['year']]\n",
    "            s = jd['salary_value'] / cr\n",
    "            if s > 30000 and s < 1000000:\n",
    "                job_salary_regression_dict[j] = s\n",
    "                job_year_regression_dict[j] = jd['year']\n",
    "                job_skill_regression_dict[j] = jd['skill_list']\n",
    "        \n",
    "save_obj(job_salary_regression_dict, f'regression_job_salary_dict', data_path_save + f'jobs/{data_label}/')\n",
    "save_obj(job_skill_regression_dict, f'regression_job_skill_dict', data_path_save + f'jobs/{data_label}/')\n",
    "save_obj(job_year_regression_dict, f'regression_job_year_dict', data_path_save + f'jobs/{data_label}/')"
   ]
  },
  {
   "cell_type": "code",
   "execution_count": null,
   "metadata": {},
   "outputs": [],
   "source": []
  },
  {
   "cell_type": "code",
   "execution_count": null,
   "metadata": {},
   "outputs": [],
   "source": []
  },
  {
   "cell_type": "code",
   "execution_count": null,
   "metadata": {},
   "outputs": [],
   "source": []
  }
 ],
 "metadata": {
  "kernelspec": {
   "display_name": "stack_overflow",
   "language": "python",
   "name": "python3"
  },
  "language_info": {
   "codemirror_mode": {
    "name": "ipython",
    "version": 3
   },
   "file_extension": ".py",
   "mimetype": "text/x-python",
   "name": "python",
   "nbconvert_exporter": "python",
   "pygments_lexer": "ipython3",
   "version": "3.9.18"
  }
 },
 "nbformat": 4,
 "nbformat_minor": 2
}
