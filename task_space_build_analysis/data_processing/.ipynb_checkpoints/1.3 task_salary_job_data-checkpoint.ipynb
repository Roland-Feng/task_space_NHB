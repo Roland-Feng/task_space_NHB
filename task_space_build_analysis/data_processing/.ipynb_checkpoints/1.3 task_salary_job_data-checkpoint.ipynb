{
 "cells": [
  {
   "cell_type": "code",
   "execution_count": null,
   "metadata": {},
   "outputs": [],
   "source": [
    "import importlib\n",
    "import task_value_from_survey #import the module here, so that it can be reloaded.\n",
    "importlib.reload(task_value_from_survey)\n",
    "from task_value_from_survey import *\n",
    "\n",
    "data_path = 'data_files/task_space_data/'\n",
    "data_path_save = data_path + 'obj_tag_question_bipartite_core_space/'\n",
    "\n",
    "country_dict = load_obj('country_dict', data_path_save+f'surveys/country/')\n",
    "country_count = load_obj('country_count', data_path_save+f'surveys/country/')\n",
    "\n",
    "country_dict_temp = {c:cs for c,cs in country_dict.items() if cs == 'United States'}\n",
    "country_dict = country_dict_temp\n",
    "\n",
    "country_count_threshold = 10\n",
    "\n",
    "period_label = 'hn_job_task_salary_only_us_log'\n",
    "get_sv_salary_log(data_path, data_path_save, country_count, country_dict, country_count_threshold, period_label)\n",
    "\n",
    "get_sv_tags(data_path, data_path_save, period_label)\n",
    "get_sv_salary_tags(data_path, data_path_save, period_label)\n"
   ]
  },
  {
   "cell_type": "code",
   "execution_count": null,
   "metadata": {},
   "outputs": [],
   "source": [
    "import importlib\n",
    "import task_value_from_survey #import the module here, so that it can be reloaded.\n",
    "importlib.reload(task_value_from_survey)\n",
    "from task_value_from_survey import *\n",
    "\n",
    "data_path = 'data_files/task_space_data/'\n",
    "data_path_save = data_path + 'obj_tag_question_bipartite_core_space/'\n",
    "\n",
    "period_label = 'hn_job_task_salary_only_us_log'\n",
    "\n",
    "so_yearlist =  [2018, 2019,2020, 2021, 2022, 2023]\n",
    "sv_yearlist = [2023]\n",
    "\n",
    "topn = 300\n",
    "print('topn: ', topn, so_yearlist, sv_yearlist)\n",
    "\n",
    "#sample_user_label = 'half_user'\n",
    "sample_user_label = 'all_threshold_user'\n",
    "#sample_user_label = 'all_answer_user'\n",
    "\n",
    "product_so_tags_sv_topn(so_yearlist, sv_yearlist, period_label, data_path_save, topn, sample_user_label)\n",
    "task_salary_topn = {}\n",
    "for level in [3,2,1]:\n",
    "    task_salary_topn[level] = calculate_task_salary_topn(data_path_save, period_label, so_yearlist, sv_yearlist, level, topn, sample_user_label)\n"
   ]
  },
  {
   "cell_type": "code",
   "execution_count": 6,
   "metadata": {
    "execution": {
     "iopub.execute_input": "2025-06-23T13:12:09.873995Z",
     "iopub.status.busy": "2025-06-23T13:12:09.873758Z",
     "iopub.status.idle": "2025-06-23T13:12:09.878152Z",
     "shell.execute_reply": "2025-06-23T13:12:09.877788Z",
     "shell.execute_reply.started": "2025-06-23T13:12:09.873982Z"
    }
   },
   "outputs": [
    {
     "name": "stdout",
     "output_type": "stream",
     "text": [
      "topn:  300 [2018, 2019, 2020, 2021, 2022, 2023] [2023]\n"
     ]
    }
   ],
   "source": [
    "from pickle_file import load_obj, save_obj\n",
    "\n",
    "data_path = 'data_files/task_space_data/'\n",
    "data_path_save = data_path + 'obj_tag_question_bipartite_core_space/'\n",
    "\n",
    "period_label = 'hn_job_task_salary_only_us_log'\n",
    "\n",
    "so_yearlist =  [2018, 2019,2020, 2021, 2022, 2023]\n",
    "sv_yearlist = [2023]\n",
    "\n",
    "topn = 300\n",
    "print('topn: ', topn, so_yearlist, sv_yearlist)\n",
    "level =1\n",
    "\n",
    "#sample_user_label = 'half_user'\n",
    "sample_user_label = 'all_threshold_user'\n",
    "#sample_user_label = 'all_answer_user'\n",
    "\n",
    "task_salary = load_obj(f'{so_yearlist}_{sv_yearlist}_task_salary_topn_{topn}_level_{level}_{sample_user_label}', data_path_save + f'surveys/country/{period_label}/')\n",
    "save_obj(task_salary, f'df_task_value_2023', data_path_save + f'surveys/country/{period_label}/')"
   ]
  },
  {
   "cell_type": "code",
   "execution_count": null,
   "metadata": {},
   "outputs": [],
   "source": []
  },
  {
   "cell_type": "code",
   "execution_count": null,
   "metadata": {},
   "outputs": [],
   "source": []
  }
 ],
 "metadata": {
  "kernelspec": {
   "display_name": "Python 3 (ipykernel)",
   "language": "python",
   "name": "python3"
  },
  "language_info": {
   "codemirror_mode": {
    "name": "ipython",
    "version": 3
   },
   "file_extension": ".py",
   "mimetype": "text/x-python",
   "name": "python",
   "nbconvert_exporter": "python",
   "pygments_lexer": "ipython3",
   "version": "3.12.7"
  }
 },
 "nbformat": 4,
 "nbformat_minor": 4
}
